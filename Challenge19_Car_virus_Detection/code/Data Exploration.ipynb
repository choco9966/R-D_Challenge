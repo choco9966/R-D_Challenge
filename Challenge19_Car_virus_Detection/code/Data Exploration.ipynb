{
 "cells": [
  {
   "cell_type": "code",
   "execution_count": 57,
   "metadata": {},
   "outputs": [],
   "source": [
    "import pandas as pd\n",
    "import numpy as np\n",
    "from plotnine import *\n",
    "from tqdm import tqdm_notebook\n",
    "import os \n",
    "import warnings"
   ]
  },
  {
   "cell_type": "code",
   "execution_count": 58,
   "metadata": {},
   "outputs": [],
   "source": [
    "warnings.filterwarnings(action='ignore')\n",
    "path = 'C:/Users/choco/Desktop/Github/Github/R-D_Challenge/Challenge19_Car_virus_Detection/input/'"
   ]
  },
  {
   "cell_type": "code",
   "execution_count": 59,
   "metadata": {},
   "outputs": [],
   "source": [
    "import matplotlib.font_manager as fm\n",
    "fontpath = 'C:/Users/choco/Anaconda3/lib/site-packages/matplotlib/mpl-data/fonts/ttf/NanumBarunGothic.ttf'\n",
    "font = fm.FontProperties(fname=fontpath).get_name()"
   ]
  },
  {
   "cell_type": "code",
   "execution_count": 60,
   "metadata": {},
   "outputs": [],
   "source": [
    "HYUNDAI_SONATA_Attack = pd.read_csv(path + 'HYUNDAI_SONATA_Attack_free_TRAIN_Release.csv', header=None)\n",
    "HYUNDAI_SONATA_Flooding = pd.read_csv(path + 'HYUNDAI_SONATA_Flooding_TRAIN_Release.csv', header=None)\n",
    "HYUNDAI_SONATA_Fuzzy = pd.read_csv(path + 'HYUNDAI_SONATA_Fuzzy_TRAIN_Release.csv', header=None)\n",
    "HYUNDAI_SONATA_Malfunction = pd.read_csv(path + 'HYUNDAI_SONATA_Malfunction_TRAIN_Release.csv', header=None)\n",
    "\n",
    "CHEVORET_SPARK_Attack = pd.read_csv(path + 'CHEVORLET_SPARK_Attack_free_TRAIN_Release.csv', header=None)\n",
    "CHEVORET_SPARK_Flooding = pd.read_csv(path + 'CHEVORLET_SPARK_Flooding_TRAIN_Release.csv', header=None)\n",
    "CHEVORET_SPARK_Fuzzy = pd.read_csv(path + 'CHEVORLET_SPARK_Fuzzy_TRAIN_Release.csv', header=None)\n",
    "CHEVORLET_SPARK_Malfunction = pd.read_csv(path + 'CHEVORLET_SPARK_Malfunction_TRAIN_Release.csv', header=None)\n",
    "\n",
    "KIA_SOUL_Attack = pd.read_csv(path + 'KIA_SOUL_Attack_free_TRAIN_Release.csv', header=None)\n",
    "KIA_SOUL_Flooding = pd.read_csv(path + 'KIA_SOUL_Flooding_TRAIN_Release.csv', header=None)\n",
    "KIA_SOUL_Fuzzy = pd.read_csv(path + 'KIA_SOUL_Fuzzy_TRAIN_Release.csv', header=None)\n",
    "KIA_SOUL_Malfunction = pd.read_csv(path + 'KIA_SOUL_Malfunction_TRAIN_Release.csv', header=None)"
   ]
  },
  {
   "cell_type": "code",
   "execution_count": 61,
   "metadata": {},
   "outputs": [],
   "source": [
    "for a in [HYUNDAI_SONATA_Attack, HYUNDAI_SONATA_Flooding, HYUNDAI_SONATA_Fuzzy, HYUNDAI_SONATA_Malfunction]:\n",
    "    a.columns = ['Timestap', 'CANID', 'DLC', 'DataField', 'Class']\n",
    "    #a['Class'] = a.Class.map({'R':0, 'T':1})\n",
    "    \n",
    "for a in [CHEVORET_SPARK_Attack, CHEVORET_SPARK_Flooding, CHEVORET_SPARK_Fuzzy, CHEVORLET_SPARK_Malfunction]:\n",
    "    a.columns = ['Timestap', 'CANID', 'DLC', 'DataField', 'Class']\n",
    "    #a['Class'] = a.Class.map({'R':0, 'T':1})\n",
    "    \n",
    "for a in [KIA_SOUL_Attack, KIA_SOUL_Flooding, KIA_SOUL_Fuzzy, KIA_SOUL_Malfunction]:\n",
    "    a.columns = ['Timestap', 'CANID', 'DLC', 'DataField', 'Class']\n",
    "    #a['Class'] = a.Class.map({'R':0, 'T':1})"
   ]
  },
  {
   "cell_type": "code",
   "execution_count": 62,
   "metadata": {
    "scrolled": true
   },
   "outputs": [
    {
     "data": {
      "text/plain": [
       "array(['A2 00 69 90 E8 0F 33 03', 'C2 00 69 90 E8 0F 33 03',\n",
       "       '62 00 69 90 E8 0F 33 03', '02 00 69 90 E8 0F 33 03'], dtype=object)"
      ]
     },
     "execution_count": 62,
     "metadata": {},
     "output_type": "execute_result"
    }
   ],
   "source": [
    "KIA_SOUL_Flooding[KIA_SOUL_Flooding['CANID']=='02A0']['DataField'].unique()"
   ]
  },
  {
   "cell_type": "code",
   "execution_count": 63,
   "metadata": {},
   "outputs": [],
   "source": [
    "HYUNDAI = pd.concat([HYUNDAI_SONATA_Attack, HYUNDAI_SONATA_Flooding], axis=0) \n",
    "HYUNDAI = pd.concat([HYUNDAI, HYUNDAI_SONATA_Fuzzy], axis=0) \n",
    "HYUNDAI = pd.concat([HYUNDAI, HYUNDAI_SONATA_Malfunction], axis=0) \n",
    "\n",
    "CHEVORET = pd.concat([CHEVORET_SPARK_Attack, CHEVORET_SPARK_Flooding], axis=0) \n",
    "CHEVORET = pd.concat([CHEVORET, CHEVORET_SPARK_Fuzzy], axis=0) \n",
    "CHEVORET = pd.concat([CHEVORET, CHEVORLET_SPARK_Malfunction], axis=0) \n",
    "\n",
    "KIA = pd.concat([KIA_SOUL_Attack, KIA_SOUL_Flooding], axis=0) \n",
    "KIA = pd.concat([KIA, KIA_SOUL_Fuzzy], axis=0) \n",
    "KIA = pd.concat([KIA, KIA_SOUL_Malfunction], axis=0) \n",
    "\n",
    "TRAIN = pd.concat([HYUNDAI, CHEVORET], axis=0)\n",
    "TRAIN = pd.concat([TRAIN, KIA], axis=0)"
   ]
  },
  {
   "cell_type": "code",
   "execution_count": 64,
   "metadata": {},
   "outputs": [
    {
     "data": {
      "text/html": [
       "<div>\n",
       "<style scoped>\n",
       "    .dataframe tbody tr th:only-of-type {\n",
       "        vertical-align: middle;\n",
       "    }\n",
       "\n",
       "    .dataframe tbody tr th {\n",
       "        vertical-align: top;\n",
       "    }\n",
       "\n",
       "    .dataframe thead th {\n",
       "        text-align: right;\n",
       "    }\n",
       "</style>\n",
       "<table border=\"1\" class=\"dataframe\">\n",
       "  <thead>\n",
       "    <tr style=\"text-align: right;\">\n",
       "      <th></th>\n",
       "      <th>Number</th>\n",
       "      <th>Timestap</th>\n",
       "      <th>CANID</th>\n",
       "      <th>DLC</th>\n",
       "      <th>DataField</th>\n",
       "    </tr>\n",
       "  </thead>\n",
       "  <tbody>\n",
       "    <tr>\n",
       "      <td>0</td>\n",
       "      <td>1</td>\n",
       "      <td>1.513920e+09</td>\n",
       "      <td>019D</td>\n",
       "      <td>8</td>\n",
       "      <td>43 2C 3C D3 00 0C 81 7F</td>\n",
       "    </tr>\n",
       "    <tr>\n",
       "      <td>1</td>\n",
       "      <td>2</td>\n",
       "      <td>1.513920e+09</td>\n",
       "      <td>018E</td>\n",
       "      <td>8</td>\n",
       "      <td>00 00 00 69 B6 9A 06 9A</td>\n",
       "    </tr>\n",
       "    <tr>\n",
       "      <td>2</td>\n",
       "      <td>3</td>\n",
       "      <td>1.513920e+09</td>\n",
       "      <td>01A1</td>\n",
       "      <td>7</td>\n",
       "      <td>00 00 01 41 6A 6A 00</td>\n",
       "    </tr>\n",
       "    <tr>\n",
       "      <td>3</td>\n",
       "      <td>4</td>\n",
       "      <td>1.513920e+09</td>\n",
       "      <td>0191</td>\n",
       "      <td>8</td>\n",
       "      <td>06 9B 06 AA 06 9A 00 00</td>\n",
       "    </tr>\n",
       "    <tr>\n",
       "      <td>4</td>\n",
       "      <td>5</td>\n",
       "      <td>1.513920e+09</td>\n",
       "      <td>00C1</td>\n",
       "      <td>8</td>\n",
       "      <td>30 F9 05 41 32 85 8B 91</td>\n",
       "    </tr>\n",
       "  </tbody>\n",
       "</table>\n",
       "</div>"
      ],
      "text/plain": [
       "   Number      Timestap CANID  DLC                DataField\n",
       "0       1  1.513920e+09  019D    8  43 2C 3C D3 00 0C 81 7F\n",
       "1       2  1.513920e+09  018E    8  00 00 00 69 B6 9A 06 9A\n",
       "2       3  1.513920e+09  01A1    7     00 00 01 41 6A 6A 00\n",
       "3       4  1.513920e+09  0191    8  06 9B 06 AA 06 9A 00 00\n",
       "4       5  1.513920e+09  00C1    8  30 F9 05 41 32 85 8B 91"
      ]
     },
     "execution_count": 64,
     "metadata": {},
     "output_type": "execute_result"
    }
   ],
   "source": [
    "File1 = pd.read_csv(path + 'File_1.csv', header=None)\n",
    "File2 = pd.read_csv(path + 'File_2.csv', header=None)\n",
    "File3 = pd.read_csv(path + 'File_3.csv', header=None)\n",
    "File4 = pd.read_csv(path + 'File_4.csv', header=None)\n",
    "File7 = pd.read_csv(path + 'File_7.csv', header=None)\n",
    "File8 = pd.read_csv(path + 'File_8.csv', header=None)\n",
    "File9 = pd.read_csv(path + 'File_9.csv', header=None)\n",
    "\n",
    "TEST = pd.DataFrame()\n",
    "for a in [File1, File2, File3, File4, File7, File8, File9]:\n",
    "    a.columns = ['Number', 'Timestap', 'CANID', 'DLC', 'DataField']\n",
    "\n",
    "for df in [File1, File2, File3, File4, File7, File8, File9]:\n",
    "    TEST = pd.concat([TEST, df], axis=0)\n",
    "    \n",
    "TEST = TEST.reset_index(drop=True)\n",
    "TEST['Number'] = TEST.index + 1\n",
    "TEST.head()"
   ]
  },
  {
   "cell_type": "markdown",
   "metadata": {},
   "source": [
    "### Data Exploration "
   ]
  },
  {
   "cell_type": "code",
   "execution_count": 68,
   "metadata": {
    "scrolled": true
   },
   "outputs": [
    {
     "data": {
      "image/png": "[encoded data removed]",
      "text/plain": [
       "<Figure size 1000x600 with 1 Axes>"
      ]
     },
     "metadata": {
      "needs_background": "light"
     },
     "output_type": "display_data"
    },
    {
     "data": {
      "text/plain": [
       "<ggplot: (181698953150)>"
      ]
     },
     "execution_count": 68,
     "metadata": {},
     "output_type": "execute_result"
    }
   ],
   "source": [
    "agg = TRAIN.groupby(['CANID'])['Class'].agg({'nunique'}).reset_index().rename(columns = {'nunique' : '클래스의 갯수'})\n",
    "agg1 = TRAIN.groupby(['CANID'])['DataField'].agg({'nunique'}).reset_index().rename(columns = {'nunique' : '데이터필드 종류의 수'})\n",
    "agg = pd.merge(agg, agg1, how='left')\n",
    "agg['클래스의 갯수'] = agg['클래스의 갯수'].astype(str)\n",
    "agg['데이터필드 종류의 수'] = agg['데이터필드 종류의 수'].apply(lambda x: '1~9' if x < 10\n",
    "                                                              else ('10~99' if ((x < 100)&(x>=10))\n",
    "                                                                else ('100~999' if ((x<1000)&(x>=100)) else '1000~')))\n",
    "\n",
    "(ggplot(agg)\n",
    " + geom_bar(aes(x='클래스의 갯수',fill = '데이터필드 종류의 수'),  position = \"stack\") \n",
    " + scale_fill_brewer(palette = \"Blues\")\n",
    " + ggtitle(\"CANID에 따른 클래스의 갯수\") \n",
    " + theme_minimal() + theme(text=element_text(family=font), figure_size=(10, 6)))"
   ]
  },
  {
   "cell_type": "code",
   "execution_count": 69,
   "metadata": {},
   "outputs": [
    {
     "data": {
      "image/png": "[encoded data removed]",
      "text/plain": [
       "<Figure size 1000x600 with 1 Axes>"
      ]
     },
     "metadata": {
      "needs_background": "light"
     },
     "output_type": "display_data"
    },
    {
     "data": {
      "text/plain": [
       "<ggplot: (-9223371855151996437)>"
      ]
     },
     "execution_count": 69,
     "metadata": {},
     "output_type": "execute_result"
    }
   ],
   "source": [
    "agg = TRAIN.groupby(['DataField'])['Class'].agg({'nunique'}).reset_index().rename(columns = {'nunique' : '클래스의 갯수'})\n",
    "agg1 = TRAIN.groupby(['DataField'])['Class'].agg({'count'}).reset_index().rename(columns = {'count' : '데이터필드의 갯수'})\n",
    "agg = pd.merge(agg, agg1, how='left')\n",
    "agg['클래스의 갯수'] = agg['클래스의 갯수'].astype(str)\n",
    "agg['데이터필드의 갯수'] = agg['데이터필드의 갯수'].apply(lambda x: '1~9' if x < 10\n",
    "                                                              else ('10~99' if ((x < 100)&(x>=10))\n",
    "                                                                else ('100~999' if ((x<1000)&(x>=100)) else '1000~')))\n",
    "\n",
    "(ggplot(agg)\n",
    " + geom_bar(aes(x='클래스의 갯수',fill = '데이터필드의 갯수'),  position = \"stack\") \n",
    " + scale_fill_brewer(palette = \"Blues\")\n",
    " + ggtitle(\"DataField에 따른 클래스의 갯수\") \n",
    " + theme_minimal() + theme(text=element_text(family=font), figure_size=(10, 6)))"
   ]
  },
  {
   "cell_type": "code",
   "execution_count": 70,
   "metadata": {},
   "outputs": [
    {
     "data": {
      "text/plain": [
       "1    126579\n",
       "2         1\n",
       "Name: 클래스의 갯수, dtype: int64"
      ]
     },
     "execution_count": 70,
     "metadata": {},
     "output_type": "execute_result"
    }
   ],
   "source": [
    "agg['클래스의 갯수'].value_counts()"
   ]
  },
  {
   "cell_type": "code",
   "execution_count": 71,
   "metadata": {},
   "outputs": [
    {
     "data": {
      "text/html": [
       "<div>\n",
       "<style scoped>\n",
       "    .dataframe tbody tr th:only-of-type {\n",
       "        vertical-align: middle;\n",
       "    }\n",
       "\n",
       "    .dataframe tbody tr th {\n",
       "        vertical-align: top;\n",
       "    }\n",
       "\n",
       "    .dataframe thead th {\n",
       "        text-align: right;\n",
       "    }\n",
       "</style>\n",
       "<table border=\"1\" class=\"dataframe\">\n",
       "  <thead>\n",
       "    <tr style=\"text-align: right;\">\n",
       "      <th></th>\n",
       "      <th>DataField</th>\n",
       "      <th>클래스의 갯수</th>\n",
       "      <th>데이터필드의 갯수</th>\n",
       "    </tr>\n",
       "  </thead>\n",
       "  <tbody>\n",
       "    <tr>\n",
       "      <td>6</td>\n",
       "      <td>00 00 00 00 00 00 00 00</td>\n",
       "      <td>2</td>\n",
       "      <td>1000~</td>\n",
       "    </tr>\n",
       "  </tbody>\n",
       "</table>\n",
       "</div>"
      ],
      "text/plain": [
       "                 DataField 클래스의 갯수 데이터필드의 갯수\n",
       "6  00 00 00 00 00 00 00 00       2     1000~"
      ]
     },
     "execution_count": 71,
     "metadata": {},
     "output_type": "execute_result"
    }
   ],
   "source": [
    "agg[agg['클래스의 갯수'] == '2']"
   ]
  },
  {
   "cell_type": "code",
   "execution_count": 73,
   "metadata": {},
   "outputs": [
    {
     "data": {
      "image/png": "[encoded data removed]",
      "text/plain": [
       "<Figure size 1000x600 with 1 Axes>"
      ]
     },
     "metadata": {
      "needs_background": "light"
     },
     "output_type": "display_data"
    },
    {
     "data": {
      "text/plain": [
       "<ggplot: (-9223371855151992537)>"
      ]
     },
     "execution_count": 73,
     "metadata": {},
     "output_type": "execute_result"
    }
   ],
   "source": [
    "agg1 = TRAIN[TRAIN['DataField']=='00 00 00 00 00 00 00 00'].groupby(['CANID'])['Class'].agg({'nunique','unique'}).reset_index().rename(columns={'nunique':'클래스의 종류의 수', 'unique':'Class'})\n",
    "agg1['Class'] = agg1['Class'].astype(str).apply(lambda x: x[2])\n",
    "(ggplot(agg1)\n",
    " + geom_bar(aes(x='CANID', fill='Class'),  position = \"identity\", colour=\"black\") \n",
    " + scale_fill_brewer(palette = \"Blues\")\n",
    " + ggtitle(\"DataField에 따른 클래스의 갯수\") \n",
    " + theme_minimal() + theme(text=element_text(family=font), figure_size=(10, 6)))"
   ]
  },
  {
   "cell_type": "markdown",
   "metadata": {},
   "source": [
    "### Train과 Test에서 겹치는 유형 \n",
    "- 1. 첫번째 CANID에 의해서 구분되는 유형. \n",
    "- 2. DATAFIELD에 의해서 구분되는 유형. \n",
    "- 3. 그렇지 않은 유형 "
   ]
  },
  {
   "cell_type": "code",
   "execution_count": 81,
   "metadata": {},
   "outputs": [
    {
     "data": {
      "text/plain": [
       "array([1.51392024e+09])"
      ]
     },
     "execution_count": 81,
     "metadata": {},
     "output_type": "execute_result"
    }
   ],
   "source": [
    "TEST[TEST['DataField']=='E6 DB D2 A7 21 5E 47 BA']['Timestap'].values"
   ]
  },
  {
   "cell_type": "code",
   "execution_count": 83,
   "metadata": {},
   "outputs": [
    {
     "data": {
      "text/plain": [
       "1513920124.163693"
      ]
     },
     "execution_count": 83,
     "metadata": {},
     "output_type": "execute_result"
    }
   ],
   "source": [
    "TEST['Timestap'].min()"
   ]
  },
  {
   "cell_type": "code",
   "execution_count": null,
   "metadata": {},
   "outputs": [],
   "source": []
  }
 ],
 "metadata": {
  "kernelspec": {
   "display_name": "Python 3",
   "language": "python",
   "name": "python3"
  },
  "language_info": {
   "codemirror_mode": {
    "name": "ipython",
    "version": 3
   },
   "file_extension": ".py",
   "mimetype": "text/x-python",
   "name": "python",
   "nbconvert_exporter": "python",
   "pygments_lexer": "ipython3",
   "version": "3.7.3"
  }
 },
 "nbformat": 4,
 "nbformat_minor": 2
}
