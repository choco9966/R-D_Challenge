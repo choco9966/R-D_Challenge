{
 "cells": [
  {
   "cell_type": "code",
   "execution_count": 1,
   "metadata": {},
   "outputs": [],
   "source": [
    "import pandas as pd\n",
    "import numpy as np\n",
    "from plotnine import *\n",
    "import os\n",
    "import warnings\n",
    "from tqdm import tqdm_notebook"
   ]
  },
  {
   "cell_type": "code",
   "execution_count": 8,
   "metadata": {},
   "outputs": [
    {
     "name": "stdout",
     "output_type": "stream",
     "text": [
      "['.ipynb_checkpoints', 'catboost_info', 'Ensemble.ipynb', 'Rule Based Model.ipynb', 'Rule_based.csv', 'Tree Based Model.ipynb', 'Tree_based.csv']\n"
     ]
    }
   ],
   "source": [
    "path = 'C:/Users/User/Documents/R_D Challenge2019/Challenge19_Car_virus_Detection/code/'\n",
    "print(os.listdir(path))"
   ]
  },
  {
   "cell_type": "markdown",
   "metadata": {},
   "source": [
    "### Ensemble"
   ]
  },
  {
   "cell_type": "code",
   "execution_count": 20,
   "metadata": {
    "scrolled": true
   },
   "outputs": [],
   "source": [
    "rule = pd.read_csv(path + \"Rule_based.csv\")\n",
    "tree = pd.read_csv(path + \"Tree_based.csv\")"
   ]
  },
  {
   "cell_type": "code",
   "execution_count": 21,
   "metadata": {},
   "outputs": [],
   "source": [
    "ensemble = pd.merge(rule, tree ,how='left',on='Number')"
   ]
  },
  {
   "cell_type": "code",
   "execution_count": 14,
   "metadata": {},
   "outputs": [
    {
     "data": {
      "text/html": [
       "<div>\n",
       "<style scoped>\n",
       "    .dataframe tbody tr th:only-of-type {\n",
       "        vertical-align: middle;\n",
       "    }\n",
       "\n",
       "    .dataframe tbody tr th {\n",
       "        vertical-align: top;\n",
       "    }\n",
       "\n",
       "    .dataframe thead th {\n",
       "        text-align: right;\n",
       "    }\n",
       "</style>\n",
       "<table border=\"1\" class=\"dataframe\">\n",
       "  <thead>\n",
       "    <tr style=\"text-align: right;\">\n",
       "      <th></th>\n",
       "      <th>Number</th>\n",
       "      <th>Timestap</th>\n",
       "      <th>CANID</th>\n",
       "      <th>DLC</th>\n",
       "      <th>DataField</th>\n",
       "      <th>Class_x</th>\n",
       "      <th>Class_y</th>\n",
       "    </tr>\n",
       "  </thead>\n",
       "  <tbody>\n",
       "    <tr>\n",
       "      <td>0</td>\n",
       "      <td>1</td>\n",
       "      <td>1.513920e+09</td>\n",
       "      <td>019D</td>\n",
       "      <td>8</td>\n",
       "      <td>43 2C 3C D3 00 0C 81 7F</td>\n",
       "      <td>R</td>\n",
       "      <td>R</td>\n",
       "    </tr>\n",
       "    <tr>\n",
       "      <td>1</td>\n",
       "      <td>2</td>\n",
       "      <td>1.513920e+09</td>\n",
       "      <td>018E</td>\n",
       "      <td>8</td>\n",
       "      <td>00 00 00 69 B6 9A 06 9A</td>\n",
       "      <td>R</td>\n",
       "      <td>R</td>\n",
       "    </tr>\n",
       "    <tr>\n",
       "      <td>2</td>\n",
       "      <td>3</td>\n",
       "      <td>1.513920e+09</td>\n",
       "      <td>01A1</td>\n",
       "      <td>7</td>\n",
       "      <td>00 00 01 41 6A 6A 00</td>\n",
       "      <td>R</td>\n",
       "      <td>R</td>\n",
       "    </tr>\n",
       "    <tr>\n",
       "      <td>3</td>\n",
       "      <td>4</td>\n",
       "      <td>1.513920e+09</td>\n",
       "      <td>0191</td>\n",
       "      <td>8</td>\n",
       "      <td>06 9B 06 AA 06 9A 00 00</td>\n",
       "      <td>R</td>\n",
       "      <td>R</td>\n",
       "    </tr>\n",
       "    <tr>\n",
       "      <td>4</td>\n",
       "      <td>5</td>\n",
       "      <td>1.513920e+09</td>\n",
       "      <td>00C1</td>\n",
       "      <td>8</td>\n",
       "      <td>30 F9 05 41 32 85 8B 91</td>\n",
       "      <td>R</td>\n",
       "      <td>R</td>\n",
       "    </tr>\n",
       "    <tr>\n",
       "      <td>...</td>\n",
       "      <td>...</td>\n",
       "      <td>...</td>\n",
       "      <td>...</td>\n",
       "      <td>...</td>\n",
       "      <td>...</td>\n",
       "      <td>...</td>\n",
       "      <td>...</td>\n",
       "    </tr>\n",
       "    <tr>\n",
       "      <td>370891</td>\n",
       "      <td>370892</td>\n",
       "      <td>1.513920e+09</td>\n",
       "      <td>0440</td>\n",
       "      <td>8</td>\n",
       "      <td>FF 00 00 00 FF 88 09 00</td>\n",
       "      <td>R</td>\n",
       "      <td>R</td>\n",
       "    </tr>\n",
       "    <tr>\n",
       "      <td>370892</td>\n",
       "      <td>370893</td>\n",
       "      <td>1.513920e+09</td>\n",
       "      <td>0545</td>\n",
       "      <td>8</td>\n",
       "      <td>D8 0F 00 8D 06 00 06 00</td>\n",
       "      <td>NaN</td>\n",
       "      <td>R</td>\n",
       "    </tr>\n",
       "    <tr>\n",
       "      <td>370893</td>\n",
       "      <td>370894</td>\n",
       "      <td>1.513920e+09</td>\n",
       "      <td>04B0</td>\n",
       "      <td>8</td>\n",
       "      <td>00 00 00 00 00 00 00 00</td>\n",
       "      <td>R</td>\n",
       "      <td>R</td>\n",
       "    </tr>\n",
       "    <tr>\n",
       "      <td>370894</td>\n",
       "      <td>370895</td>\n",
       "      <td>1.513920e+09</td>\n",
       "      <td>0164</td>\n",
       "      <td>8</td>\n",
       "      <td>00 08 01 00 00 00 04 0D</td>\n",
       "      <td>R</td>\n",
       "      <td>R</td>\n",
       "    </tr>\n",
       "    <tr>\n",
       "      <td>370895</td>\n",
       "      <td>370896</td>\n",
       "      <td>1.513920e+09</td>\n",
       "      <td>0350</td>\n",
       "      <td>8</td>\n",
       "      <td>05 20 B4 45 96 00 00 42</td>\n",
       "      <td>NaN</td>\n",
       "      <td>R</td>\n",
       "    </tr>\n",
       "  </tbody>\n",
       "</table>\n",
       "<p>370896 rows × 7 columns</p>\n",
       "</div>"
      ],
      "text/plain": [
       "        Number      Timestap CANID  DLC                DataField Class_x  \\\n",
       "0            1  1.513920e+09  019D    8  43 2C 3C D3 00 0C 81 7F       R   \n",
       "1            2  1.513920e+09  018E    8  00 00 00 69 B6 9A 06 9A       R   \n",
       "2            3  1.513920e+09  01A1    7     00 00 01 41 6A 6A 00       R   \n",
       "3            4  1.513920e+09  0191    8  06 9B 06 AA 06 9A 00 00       R   \n",
       "4            5  1.513920e+09  00C1    8  30 F9 05 41 32 85 8B 91       R   \n",
       "...        ...           ...   ...  ...                      ...     ...   \n",
       "370891  370892  1.513920e+09  0440    8  FF 00 00 00 FF 88 09 00       R   \n",
       "370892  370893  1.513920e+09  0545    8  D8 0F 00 8D 06 00 06 00     NaN   \n",
       "370893  370894  1.513920e+09  04B0    8  00 00 00 00 00 00 00 00       R   \n",
       "370894  370895  1.513920e+09  0164    8  00 08 01 00 00 00 04 0D       R   \n",
       "370895  370896  1.513920e+09  0350    8  05 20 B4 45 96 00 00 42     NaN   \n",
       "\n",
       "       Class_y  \n",
       "0            R  \n",
       "1            R  \n",
       "2            R  \n",
       "3            R  \n",
       "4            R  \n",
       "...        ...  \n",
       "370891       R  \n",
       "370892       R  \n",
       "370893       R  \n",
       "370894       R  \n",
       "370895       R  \n",
       "\n",
       "[370896 rows x 7 columns]"
      ]
     },
     "execution_count": 14,
     "metadata": {},
     "output_type": "execute_result"
    }
   ],
   "source": [
    "ensemble['Class_x'] = ensemble['Class_x'].fillna(ensemble['Class_y'])"
   ]
  },
  {
   "cell_type": "code",
   "execution_count": 23,
   "metadata": {},
   "outputs": [],
   "source": [
    "ensemble['Class'] = ensemble['Class_x'].fillna(ensemble['Class_y'])\n",
    "ensemble[['Number', 'Class']].to_csv(\"result_car_Kim Kyunghwan.csv\",index=False)"
   ]
  },
  {
   "cell_type": "code",
   "execution_count": null,
   "metadata": {},
   "outputs": [],
   "source": []
  }
 ],
 "metadata": {
  "kernelspec": {
   "display_name": "Python 3",
   "language": "python",
   "name": "python3"
  },
  "language_info": {
   "codemirror_mode": {
    "name": "ipython",
    "version": 3
   },
   "file_extension": ".py",
   "mimetype": "text/x-python",
   "name": "python",
   "nbconvert_exporter": "python",
   "pygments_lexer": "ipython3",
   "version": "3.6.8"
  }
 },
 "nbformat": 4,
 "nbformat_minor": 2
}
