{
 "cells": [
  {
   "cell_type": "code",
   "execution_count": 11,
   "metadata": {},
   "outputs": [],
   "source": [
    "import pandas as pd\n",
    "import numpy as np\n",
    "from plotnine import *\n",
    "import os\n",
    "import warnings\n",
    "from tqdm import tqdm_notebook\n",
    "\n",
    "from tqdm import tqdm, tqdm_notebook\n",
    "tqdm.pandas()\n"
   ]
  },
  {
   "cell_type": "code",
   "execution_count": 12,
   "metadata": {
    "scrolled": true
   },
   "outputs": [
    {
     "name": "stdout",
     "output_type": "stream",
     "text": [
      "['Attack_free_HY_Sonata.csv', 'Attack_free_KIA_Soul.csv', 'Fuzzy_dataset_HY_Sonata_train.csv', 'Fuzzy_dataset_KIA_Soul_train.csv', 'Malfunction_1st_dataset_HY_Sonata_train.csv', 'Malfunction_1st_dataset_KIA_Soul_train.csv']\n"
     ]
    }
   ],
   "source": [
    "path = 'C:/Users/choco/Desktop/Github/Github/R-D_Challenge/Challenge19_Car_virus_Detection/\\car_attack_detection/input/train/'\n",
    "print(os.listdir(path))"
   ]
  },
  {
   "cell_type": "code",
   "execution_count": 13,
   "metadata": {},
   "outputs": [],
   "source": [
    "HYUNDAI_SONATA_Attack = pd.read_csv(path + 'Attack_free_HY_Sonata.csv', header=None)\n",
    "HYUNDAI_SONATA_Fuzzy = pd.read_csv(path + 'Fuzzy_dataset_HY_Sonata_train.csv', header=None)\n",
    "HYUNDAI_SONATA_Malfunction = pd.read_csv(path + 'Malfunction_1st_dataset_HY_Sonata_train.csv', header=None)\n",
    "\n",
    "KIA_SOUL_Attack = pd.read_csv(path + 'Attack_free_KIA_Soul.csv', header=None)\n",
    "KIA_SOUL_Fuzzy = pd.read_csv(path + 'Fuzzy_dataset_KIA_Soul_train.csv', header=None)\n",
    "KIA_SOUL_Malfunction = pd.read_csv(path + 'Malfunction_1st_dataset_KIA_Soul_train.csv', header=None)"
   ]
  },
  {
   "cell_type": "code",
   "execution_count": 14,
   "metadata": {},
   "outputs": [],
   "source": [
    "for a in [HYUNDAI_SONATA_Attack, HYUNDAI_SONATA_Fuzzy, HYUNDAI_SONATA_Malfunction]:\n",
    "    a.columns = ['Timestap', 'CANID', 'DLC', 'DataField', 'Class']\n",
    "    \n",
    "for a in [KIA_SOUL_Attack, KIA_SOUL_Fuzzy, KIA_SOUL_Malfunction]:\n",
    "    a.columns = ['Timestap', 'CANID', 'DLC', 'DataField', 'Class']"
   ]
  },
  {
   "cell_type": "code",
   "execution_count": 15,
   "metadata": {},
   "outputs": [],
   "source": [
    "T_DataField = []; CANID_NUNIQUE1 = []\n",
    "R_DataField = []; CANID_NUNIQUE2 = []"
   ]
  },
  {
   "cell_type": "code",
   "execution_count": 16,
   "metadata": {},
   "outputs": [],
   "source": [
    "HYUNDAI = pd.concat([HYUNDAI_SONATA_Attack, HYUNDAI_SONATA_Fuzzy], axis=0) \n",
    "HYUNDAI = pd.concat([HYUNDAI, HYUNDAI_SONATA_Malfunction], axis=0) \n",
    "\n",
    "KIA = pd.concat([KIA_SOUL_Attack, KIA_SOUL_Fuzzy], axis=0) \n",
    "KIA = pd.concat([KIA, KIA_SOUL_Malfunction], axis=0) \n",
    "\n",
    "TRAIN = pd.concat([HYUNDAI, KIA], axis=0)"
   ]
  },
  {
   "cell_type": "code",
   "execution_count": 17,
   "metadata": {},
   "outputs": [],
   "source": [
    "T_DataField = np.append(T_DataField, TRAIN[TRAIN['Class']=='T']['DataField'].values)\n",
    "R_DataField = np.append(R_DataField, TRAIN[TRAIN['Class']=='R']['DataField'].values)"
   ]
  },
  {
   "cell_type": "code",
   "execution_count": 18,
   "metadata": {
    "scrolled": true
   },
   "outputs": [
    {
     "data": {
      "text/plain": [
       "{'45 2E 1A 0E 2F 2A 00 7F',\n",
       " '45 2E 2A 0E 2F 2A 00 7F',\n",
       " '45 2F 16 0E 2F 2A 00 7F',\n",
       " '45 2F E0 0D 2F 2A 00 7F',\n",
       " '45 2F EC 0D 2F 2A 00 7F',\n",
       " '45 2F FE 0D 2F 2A 00 7F',\n",
       " '45 30 0E 0E 31 2A 00 7F',\n",
       " '45 30 10 0E 30 2A 00 7F',\n",
       " '45 30 10 0E 31 2A 00 7F',\n",
       " '45 30 18 0E 30 2A 00 7F',\n",
       " '45 30 3A 0E 30 2A 00 7F',\n",
       " '45 30 C0 0D 30 2A 00 7F',\n",
       " '45 30 C4 0D 30 2A 00 7F',\n",
       " '45 30 CC 0D 30 2A 00 7F',\n",
       " '45 30 E6 0D 30 2A 00 7F',\n",
       " '45 30 EC 0D 31 2A 00 7F',\n",
       " '45 31 02 0E 31 2A 00 7F',\n",
       " '45 31 06 0E 31 2A 00 7F',\n",
       " '45 31 10 0E 31 2A 00 7F',\n",
       " '45 31 12 0E 31 2A 00 7F',\n",
       " '45 31 9C 0D 31 2A 00 7F',\n",
       " '45 31 AC 0D 31 2A 00 7F',\n",
       " '45 31 AE 0D 31 2A 00 7F',\n",
       " '45 31 B0 0D 32 2A 00 7F',\n",
       " '45 31 BA 0D 31 2A 00 7F',\n",
       " '45 31 BE 0D 31 2A 00 7F',\n",
       " '45 31 C6 0D 31 2A 00 7F',\n",
       " '45 31 C6 0D 32 2A 00 7F',\n",
       " '45 31 C8 0D 31 2A 00 7F',\n",
       " '45 31 D4 0D 31 2A 00 7F',\n",
       " '45 31 E8 0D 31 2A 00 7F',\n",
       " '45 31 EA 0D 31 2A 00 7F',\n",
       " '45 31 F4 0D 31 2A 00 7F',\n",
       " '45 32 9E 0D 32 2A 00 7F',\n",
       " '45 32 AC 0D 32 2A 00 7F',\n",
       " '45 32 DA 0D 31 2A 00 7F',\n",
       " '45 32 DE 0D 32 2A 00 7F',\n",
       " '45 32 F4 0D 31 2A 00 7F',\n",
       " '45 32 FC 0D 32 2A 00 7F',\n",
       " '45 32 FE 0D 32 2A 00 7F'}"
      ]
     },
     "execution_count": 18,
     "metadata": {},
     "output_type": "execute_result"
    }
   ],
   "source": [
    "set(T_DataField).intersection(set(R_DataField))"
   ]
  },
  {
   "cell_type": "code",
   "execution_count": 19,
   "metadata": {
    "scrolled": true
   },
   "outputs": [
    {
     "name": "stdout",
     "output_type": "stream",
     "text": [
      "45 30 C0 0D 30 2A 00 7F ['0316']\n",
      "45 2F E0 0D 2F 2A 00 7F ['0316']\n",
      "45 32 FE 0D 32 2A 00 7F ['316' '0316']\n",
      "45 31 B0 0D 32 2A 00 7F ['0316']\n",
      "45 31 AE 0D 31 2A 00 7F ['0316']\n",
      "45 30 18 0E 30 2A 00 7F ['0316']\n",
      "45 32 FC 0D 32 2A 00 7F ['316' '0316']\n",
      "45 31 D4 0D 31 2A 00 7F ['316' '0316']\n",
      "45 31 BE 0D 31 2A 00 7F ['0316']\n",
      "45 30 EC 0D 31 2A 00 7F ['0316']\n",
      "45 30 0E 0E 31 2A 00 7F ['0316']\n",
      "45 32 AC 0D 32 2A 00 7F ['316' '0316']\n",
      "45 31 BA 0D 31 2A 00 7F ['0316']\n",
      "45 31 F4 0D 31 2A 00 7F ['0316']\n",
      "45 32 F4 0D 31 2A 00 7F ['316' '0316']\n",
      "45 31 9C 0D 31 2A 00 7F ['0316']\n",
      "45 31 10 0E 31 2A 00 7F ['316' '0316']\n",
      "45 2F FE 0D 2F 2A 00 7F ['0316']\n",
      "45 31 E8 0D 31 2A 00 7F ['0316']\n",
      "45 31 C6 0D 32 2A 00 7F ['316' '0316']\n",
      "45 31 C8 0D 31 2A 00 7F ['316' '0316']\n",
      "45 32 DE 0D 32 2A 00 7F ['316' '0316']\n",
      "45 30 3A 0E 30 2A 00 7F ['316' '0316']\n",
      "45 31 C6 0D 31 2A 00 7F ['316' '0316']\n",
      "45 31 02 0E 31 2A 00 7F ['316' '0316']\n",
      "45 2F EC 0D 2F 2A 00 7F ['0316']\n",
      "45 2F 16 0E 2F 2A 00 7F ['0316']\n",
      "45 31 AC 0D 31 2A 00 7F ['316' '0316']\n",
      "45 31 EA 0D 31 2A 00 7F ['316' '0316']\n",
      "45 30 10 0E 31 2A 00 7F ['0316']\n",
      "45 2E 2A 0E 2F 2A 00 7F ['0316']\n",
      "45 2E 1A 0E 2F 2A 00 7F ['0316']\n",
      "45 30 E6 0D 30 2A 00 7F ['0316']\n",
      "45 31 12 0E 31 2A 00 7F ['0316']\n",
      "45 32 9E 0D 32 2A 00 7F ['0316']\n",
      "45 31 06 0E 31 2A 00 7F ['316' '0316']\n",
      "45 30 CC 0D 30 2A 00 7F ['0316']\n",
      "45 30 C4 0D 30 2A 00 7F ['0316']\n",
      "45 32 DA 0D 31 2A 00 7F ['316' '0316']\n",
      "45 30 10 0E 30 2A 00 7F ['0316']\n"
     ]
    }
   ],
   "source": [
    "for i in set(T_DataField).intersection(set(R_DataField)):\n",
    "    print(i, TRAIN[TRAIN['DataField']==i]['CANID'].unique())"
   ]
  },
  {
   "cell_type": "code",
   "execution_count": 20,
   "metadata": {
    "scrolled": true
   },
   "outputs": [],
   "source": [
    "agg = TRAIN.groupby(['CANID'])['Class'].agg({'nunique'}).reset_index()\n",
    "CANID_NUNIQUE1 = np.append(CANID_NUNIQUE1, agg[agg['nunique']==1]['CANID'].values)\n",
    "CANID_NUNIQUE2 = np.append(CANID_NUNIQUE2, agg[agg['nunique']==2]['CANID'].values)\n",
    "\n",
    "CANID_UNIQUE = TRAIN.groupby(['CANID'])['Class'].agg({'unique'}).reset_index()\n",
    "DATAFILE_NUNIQUE = TRAIN.groupby(['CANID'])['DataField'].agg({'nunique'}).reset_index()"
   ]
  },
  {
   "cell_type": "code",
   "execution_count": 21,
   "metadata": {},
   "outputs": [
    {
     "data": {
      "text/plain": [
       "set()"
      ]
     },
     "execution_count": 21,
     "metadata": {},
     "output_type": "execute_result"
    }
   ],
   "source": [
    "set(CANID_NUNIQUE1).intersection(set(CANID_NUNIQUE2))"
   ]
  },
  {
   "cell_type": "markdown",
   "metadata": {},
   "source": [
    "## 제출 파일 로드"
   ]
  },
  {
   "cell_type": "code",
   "execution_count": 22,
   "metadata": {},
   "outputs": [
    {
     "name": "stdout",
     "output_type": "stream",
     "text": [
      "['File1.csv', 'File2.csv', 'File3.csv', 'File4.csv']\n"
     ]
    },
    {
     "data": {
      "text/html": [
       "<div>\n",
       "<style scoped>\n",
       "    .dataframe tbody tr th:only-of-type {\n",
       "        vertical-align: middle;\n",
       "    }\n",
       "\n",
       "    .dataframe tbody tr th {\n",
       "        vertical-align: top;\n",
       "    }\n",
       "\n",
       "    .dataframe thead th {\n",
       "        text-align: right;\n",
       "    }\n",
       "</style>\n",
       "<table border=\"1\" class=\"dataframe\">\n",
       "  <thead>\n",
       "    <tr style=\"text-align: right;\">\n",
       "      <th></th>\n",
       "      <th>Number</th>\n",
       "      <th>Timestap</th>\n",
       "      <th>CANID</th>\n",
       "      <th>DLC</th>\n",
       "      <th>DataField</th>\n",
       "    </tr>\n",
       "  </thead>\n",
       "  <tbody>\n",
       "    <tr>\n",
       "      <th>0</th>\n",
       "      <td>1</td>\n",
       "      <td>1.513926e+09</td>\n",
       "      <td>0370</td>\n",
       "      <td>8</td>\n",
       "      <td>00 20 00 00 00 00 00 00</td>\n",
       "    </tr>\n",
       "    <tr>\n",
       "      <th>1</th>\n",
       "      <td>2</td>\n",
       "      <td>1.513926e+09</td>\n",
       "      <td>043F</td>\n",
       "      <td>8</td>\n",
       "      <td>00 40 60 FF 65 B4 08 00</td>\n",
       "    </tr>\n",
       "    <tr>\n",
       "      <th>2</th>\n",
       "      <td>3</td>\n",
       "      <td>1.513926e+09</td>\n",
       "      <td>018F</td>\n",
       "      <td>8</td>\n",
       "      <td>FE 62 00 00 00 3C 00 00</td>\n",
       "    </tr>\n",
       "    <tr>\n",
       "      <th>3</th>\n",
       "      <td>4</td>\n",
       "      <td>1.513926e+09</td>\n",
       "      <td>0260</td>\n",
       "      <td>8</td>\n",
       "      <td>1B 24 24 30 FF 8F 6D 3A</td>\n",
       "    </tr>\n",
       "    <tr>\n",
       "      <th>4</th>\n",
       "      <td>5</td>\n",
       "      <td>1.513926e+09</td>\n",
       "      <td>02A0</td>\n",
       "      <td>8</td>\n",
       "      <td>64 00 83 1D 16 05 E3 00</td>\n",
       "    </tr>\n",
       "  </tbody>\n",
       "</table>\n",
       "</div>"
      ],
      "text/plain": [
       "   Number      Timestap CANID  DLC                DataField\n",
       "0       1  1.513926e+09  0370    8  00 20 00 00 00 00 00 00\n",
       "1       2  1.513926e+09  043F    8  00 40 60 FF 65 B4 08 00\n",
       "2       3  1.513926e+09  018F    8  FE 62 00 00 00 3C 00 00\n",
       "3       4  1.513926e+09  0260    8  1B 24 24 30 FF 8F 6D 3A\n",
       "4       5  1.513926e+09  02A0    8  64 00 83 1D 16 05 E3 00"
      ]
     },
     "execution_count": 22,
     "metadata": {},
     "output_type": "execute_result"
    }
   ],
   "source": [
    "path = 'C:/Users/choco/Desktop/Github/Github/R-D_Challenge/Challenge19_Car_virus_Detection/\\car_attack_detection/input/test/'\n",
    "print(os.listdir(path))\n",
    "File1 = pd.read_csv(path + 'File1.csv', header=None)\n",
    "File2 = pd.read_csv(path + 'File2.csv', header=None)\n",
    "File3 = pd.read_csv(path + 'File3.csv', header=None)\n",
    "File4 = pd.read_csv(path + 'File4.csv', header=None)\n",
    "\n",
    "TEST = pd.DataFrame()\n",
    "for a in [File1, File2, File3, File4]:\n",
    "    a.columns = ['Number', 'Timestap', 'CANID', 'DLC', 'DataField']\n",
    "\n",
    "for df in [File1, File2, File3, File4]:\n",
    "    TEST = pd.concat([TEST, df], axis=0)\n",
    "    \n",
    "TEST = TEST.reset_index(drop=True)\n",
    "TEST['Number'] = TEST.index + 1\n",
    "TEST.head()"
   ]
  },
  {
   "cell_type": "code",
   "execution_count": 24,
   "metadata": {},
   "outputs": [],
   "source": [
    "import matplotlib.font_manager as fm\n",
    "fontpath = 'C:/Users/choco/Anaconda3/lib/site-packages/matplotlib/mpl-data/fonts/ttf/NanumBarunGothic.ttf'\n",
    "font = fm.FontProperties(fname=fontpath).get_name()"
   ]
  },
  {
   "cell_type": "code",
   "execution_count": 25,
   "metadata": {},
   "outputs": [
    {
     "data": {
      "image/png": "[encoded data removed]",
      "text/plain": [
       "<Figure size 1000x600 with 1 Axes>"
      ]
     },
     "metadata": {
      "needs_background": "light"
     },
     "output_type": "display_data"
    },
    {
     "data": {
      "text/plain": [
       "<ggplot: (91285022093)>"
      ]
     },
     "execution_count": 25,
     "metadata": {},
     "output_type": "execute_result"
    }
   ],
   "source": [
    "agg = TRAIN.groupby(['DataField'])['Class'].agg({'nunique'}).reset_index().rename(columns = {'nunique' : '클래스의 갯수'})\n",
    "agg1 = TRAIN.groupby(['DataField'])['Class'].agg({'count'}).reset_index().rename(columns = {'count' : '데이터필드의 갯수'})\n",
    "agg = pd.merge(agg, agg1, how='left')\n",
    "agg['클래스의 갯수'] = agg['클래스의 갯수'].astype(str)\n",
    "agg['데이터필드의 갯수'] = agg['데이터필드의 갯수'].apply(lambda x: '1~9' if x < 10\n",
    "                                                              else ('10~99' if ((x < 100)&(x>=10))\n",
    "                                                                else ('100~999' if ((x<1000)&(x>=100)) else '1000~')))\n",
    "\n",
    "(ggplot(agg)\n",
    " + geom_bar(aes(x='클래스의 갯수',fill = '데이터필드의 갯수'),  position = \"stack\") \n",
    " + scale_fill_brewer(palette = \"Reds\")\n",
    " + ggtitle(\"DataField에 따른 클래스의 갯수\") \n",
    " + theme_minimal() + theme(text=element_text(family=font), figure_size=(10, 6)))"
   ]
  },
  {
   "cell_type": "code",
   "execution_count": 26,
   "metadata": {},
   "outputs": [
    {
     "data": {
      "text/plain": [
       "1    388073\n",
       "2        40\n",
       "Name: 클래스의 갯수, dtype: int64"
      ]
     },
     "execution_count": 26,
     "metadata": {},
     "output_type": "execute_result"
    }
   ],
   "source": [
    "agg['클래스의 갯수'].value_counts()"
   ]
  },
  {
   "cell_type": "code",
   "execution_count": 36,
   "metadata": {
    "scrolled": true
   },
   "outputs": [
    {
     "name": "stdout",
     "output_type": "stream",
     "text": [
      "['0316']\n",
      "['0316']\n",
      "['0316']\n",
      "['0316']\n",
      "['0316']\n",
      "['0316']\n",
      "['0316']\n",
      "['0316']\n",
      "['0316']\n",
      "['0316']\n",
      "['316' '0316']\n",
      "['0316']\n",
      "['0316']\n",
      "['0316']\n",
      "['0316']\n",
      "['0316']\n",
      "['316' '0316']\n",
      "['316' '0316']\n",
      "['316' '0316']\n",
      "['0316']\n",
      "['0316']\n",
      "['316' '0316']\n",
      "['0316']\n",
      "['0316']\n",
      "['0316']\n",
      "['0316']\n",
      "['316' '0316']\n",
      "['316' '0316']\n",
      "['316' '0316']\n",
      "['316' '0316']\n",
      "['0316']\n",
      "['316' '0316']\n",
      "['0316']\n",
      "['0316']\n",
      "['316' '0316']\n",
      "['316' '0316']\n",
      "['316' '0316']\n",
      "['316' '0316']\n",
      "['316' '0316']\n",
      "['316' '0316']\n"
     ]
    }
   ],
   "source": [
    "for i in agg[agg['클래스의 갯수'] == '2']['DataField'].unique():\n",
    "    print(TRAIN[TRAIN['DataField']==i]['CANID'].unique())"
   ]
  },
  {
   "cell_type": "code",
   "execution_count": 37,
   "metadata": {},
   "outputs": [
    {
     "data": {
      "text/plain": [
       "array(['R', 'T'], dtype=object)"
      ]
     },
     "execution_count": 37,
     "metadata": {},
     "output_type": "execute_result"
    }
   ],
   "source": [
    "TRAIN[TRAIN['CANID']=='0316']['Class'].unique()"
   ]
  },
  {
   "cell_type": "code",
   "execution_count": 38,
   "metadata": {},
   "outputs": [
    {
     "data": {
      "text/plain": [
       "array(['R'], dtype=object)"
      ]
     },
     "execution_count": 38,
     "metadata": {},
     "output_type": "execute_result"
    }
   ],
   "source": [
    "TRAIN[TRAIN['CANID']=='316']['Class'].unique()"
   ]
  },
  {
   "cell_type": "code",
   "execution_count": 34,
   "metadata": {
    "scrolled": true
   },
   "outputs": [
    {
     "data": {
      "text/html": [
       "<div>\n",
       "<style scoped>\n",
       "    .dataframe tbody tr th:only-of-type {\n",
       "        vertical-align: middle;\n",
       "    }\n",
       "\n",
       "    .dataframe tbody tr th {\n",
       "        vertical-align: top;\n",
       "    }\n",
       "\n",
       "    .dataframe thead th {\n",
       "        text-align: right;\n",
       "    }\n",
       "</style>\n",
       "<table border=\"1\" class=\"dataframe\">\n",
       "  <thead>\n",
       "    <tr style=\"text-align: right;\">\n",
       "      <th></th>\n",
       "      <th>Timestap</th>\n",
       "      <th>CANID</th>\n",
       "      <th>DLC</th>\n",
       "      <th>DataField</th>\n",
       "      <th>Class</th>\n",
       "    </tr>\n",
       "  </thead>\n",
       "  <tbody>\n",
       "    <tr>\n",
       "      <th>5607</th>\n",
       "      <td>1.513925e+09</td>\n",
       "      <td>0316</td>\n",
       "      <td>8</td>\n",
       "      <td>45 30 C0 0D 30 2A 00 7F</td>\n",
       "      <td>R</td>\n",
       "    </tr>\n",
       "    <tr>\n",
       "      <th>12312</th>\n",
       "      <td>1.513925e+09</td>\n",
       "      <td>0316</td>\n",
       "      <td>8</td>\n",
       "      <td>45 30 C0 0D 30 2A 00 7F</td>\n",
       "      <td>R</td>\n",
       "    </tr>\n",
       "    <tr>\n",
       "      <th>1303</th>\n",
       "      <td>1.513925e+09</td>\n",
       "      <td>0316</td>\n",
       "      <td>8</td>\n",
       "      <td>45 30 C0 0D 30 2A 00 7F</td>\n",
       "      <td>T</td>\n",
       "    </tr>\n",
       "    <tr>\n",
       "      <th>3397</th>\n",
       "      <td>1.513925e+09</td>\n",
       "      <td>0316</td>\n",
       "      <td>8</td>\n",
       "      <td>45 30 C0 0D 30 2A 00 7F</td>\n",
       "      <td>T</td>\n",
       "    </tr>\n",
       "    <tr>\n",
       "      <th>4147</th>\n",
       "      <td>1.513925e+09</td>\n",
       "      <td>0316</td>\n",
       "      <td>8</td>\n",
       "      <td>45 30 C0 0D 30 2A 00 7F</td>\n",
       "      <td>R</td>\n",
       "    </tr>\n",
       "    <tr>\n",
       "      <th>5226</th>\n",
       "      <td>1.513925e+09</td>\n",
       "      <td>0316</td>\n",
       "      <td>8</td>\n",
       "      <td>45 30 C0 0D 30 2A 00 7F</td>\n",
       "      <td>R</td>\n",
       "    </tr>\n",
       "    <tr>\n",
       "      <th>5259</th>\n",
       "      <td>1.513925e+09</td>\n",
       "      <td>0316</td>\n",
       "      <td>8</td>\n",
       "      <td>45 30 C0 0D 30 2A 00 7F</td>\n",
       "      <td>R</td>\n",
       "    </tr>\n",
       "    <tr>\n",
       "      <th>9261</th>\n",
       "      <td>1.513925e+09</td>\n",
       "      <td>0316</td>\n",
       "      <td>8</td>\n",
       "      <td>45 30 C0 0D 30 2A 00 7F</td>\n",
       "      <td>R</td>\n",
       "    </tr>\n",
       "    <tr>\n",
       "      <th>9276</th>\n",
       "      <td>1.513925e+09</td>\n",
       "      <td>0316</td>\n",
       "      <td>8</td>\n",
       "      <td>45 30 C0 0D 30 2A 00 7F</td>\n",
       "      <td>R</td>\n",
       "    </tr>\n",
       "    <tr>\n",
       "      <th>10519</th>\n",
       "      <td>1.513925e+09</td>\n",
       "      <td>0316</td>\n",
       "      <td>8</td>\n",
       "      <td>45 30 C0 0D 30 2A 00 7F</td>\n",
       "      <td>R</td>\n",
       "    </tr>\n",
       "    <tr>\n",
       "      <th>15229</th>\n",
       "      <td>1.513925e+09</td>\n",
       "      <td>0316</td>\n",
       "      <td>8</td>\n",
       "      <td>45 30 C0 0D 30 2A 00 7F</td>\n",
       "      <td>R</td>\n",
       "    </tr>\n",
       "    <tr>\n",
       "      <th>15250</th>\n",
       "      <td>1.513925e+09</td>\n",
       "      <td>0316</td>\n",
       "      <td>8</td>\n",
       "      <td>45 30 C0 0D 30 2A 00 7F</td>\n",
       "      <td>R</td>\n",
       "    </tr>\n",
       "    <tr>\n",
       "      <th>22148</th>\n",
       "      <td>1.513925e+09</td>\n",
       "      <td>0316</td>\n",
       "      <td>8</td>\n",
       "      <td>45 30 C0 0D 30 2A 00 7F</td>\n",
       "      <td>R</td>\n",
       "    </tr>\n",
       "    <tr>\n",
       "      <th>22168</th>\n",
       "      <td>1.513925e+09</td>\n",
       "      <td>0316</td>\n",
       "      <td>8</td>\n",
       "      <td>45 30 C0 0D 30 2A 00 7F</td>\n",
       "      <td>R</td>\n",
       "    </tr>\n",
       "    <tr>\n",
       "      <th>24802</th>\n",
       "      <td>1.513925e+09</td>\n",
       "      <td>0316</td>\n",
       "      <td>8</td>\n",
       "      <td>45 30 C0 0D 30 2A 00 7F</td>\n",
       "      <td>R</td>\n",
       "    </tr>\n",
       "    <tr>\n",
       "      <th>28901</th>\n",
       "      <td>1.513925e+09</td>\n",
       "      <td>0316</td>\n",
       "      <td>8</td>\n",
       "      <td>45 30 C0 0D 30 2A 00 7F</td>\n",
       "      <td>R</td>\n",
       "    </tr>\n",
       "    <tr>\n",
       "      <th>28922</th>\n",
       "      <td>1.513925e+09</td>\n",
       "      <td>0316</td>\n",
       "      <td>8</td>\n",
       "      <td>45 30 C0 0D 30 2A 00 7F</td>\n",
       "      <td>R</td>\n",
       "    </tr>\n",
       "    <tr>\n",
       "      <th>29737</th>\n",
       "      <td>1.513925e+09</td>\n",
       "      <td>0316</td>\n",
       "      <td>8</td>\n",
       "      <td>45 30 C0 0D 30 2A 00 7F</td>\n",
       "      <td>R</td>\n",
       "    </tr>\n",
       "    <tr>\n",
       "      <th>35023</th>\n",
       "      <td>1.513925e+09</td>\n",
       "      <td>0316</td>\n",
       "      <td>8</td>\n",
       "      <td>45 30 C0 0D 30 2A 00 7F</td>\n",
       "      <td>R</td>\n",
       "    </tr>\n",
       "    <tr>\n",
       "      <th>38350</th>\n",
       "      <td>1.513925e+09</td>\n",
       "      <td>0316</td>\n",
       "      <td>8</td>\n",
       "      <td>45 30 C0 0D 30 2A 00 7F</td>\n",
       "      <td>R</td>\n",
       "    </tr>\n",
       "    <tr>\n",
       "      <th>39206</th>\n",
       "      <td>1.513925e+09</td>\n",
       "      <td>0316</td>\n",
       "      <td>8</td>\n",
       "      <td>45 30 C0 0D 30 2A 00 7F</td>\n",
       "      <td>R</td>\n",
       "    </tr>\n",
       "    <tr>\n",
       "      <th>39226</th>\n",
       "      <td>1.513925e+09</td>\n",
       "      <td>0316</td>\n",
       "      <td>8</td>\n",
       "      <td>45 30 C0 0D 30 2A 00 7F</td>\n",
       "      <td>R</td>\n",
       "    </tr>\n",
       "    <tr>\n",
       "      <th>41303</th>\n",
       "      <td>1.513925e+09</td>\n",
       "      <td>0316</td>\n",
       "      <td>8</td>\n",
       "      <td>45 30 C0 0D 30 2A 00 7F</td>\n",
       "      <td>R</td>\n",
       "    </tr>\n",
       "    <tr>\n",
       "      <th>43951</th>\n",
       "      <td>1.513925e+09</td>\n",
       "      <td>0316</td>\n",
       "      <td>8</td>\n",
       "      <td>45 30 C0 0D 30 2A 00 7F</td>\n",
       "      <td>R</td>\n",
       "    </tr>\n",
       "    <tr>\n",
       "      <th>43975</th>\n",
       "      <td>1.513925e+09</td>\n",
       "      <td>0316</td>\n",
       "      <td>8</td>\n",
       "      <td>45 30 C0 0D 30 2A 00 7F</td>\n",
       "      <td>R</td>\n",
       "    </tr>\n",
       "    <tr>\n",
       "      <th>44282</th>\n",
       "      <td>1.513925e+09</td>\n",
       "      <td>0316</td>\n",
       "      <td>8</td>\n",
       "      <td>45 30 C0 0D 30 2A 00 7F</td>\n",
       "      <td>R</td>\n",
       "    </tr>\n",
       "    <tr>\n",
       "      <th>44306</th>\n",
       "      <td>1.513925e+09</td>\n",
       "      <td>0316</td>\n",
       "      <td>8</td>\n",
       "      <td>45 30 C0 0D 30 2A 00 7F</td>\n",
       "      <td>R</td>\n",
       "    </tr>\n",
       "    <tr>\n",
       "      <th>45694</th>\n",
       "      <td>1.513925e+09</td>\n",
       "      <td>0316</td>\n",
       "      <td>8</td>\n",
       "      <td>45 30 C0 0D 30 2A 00 7F</td>\n",
       "      <td>R</td>\n",
       "    </tr>\n",
       "    <tr>\n",
       "      <th>138704</th>\n",
       "      <td>1.513925e+09</td>\n",
       "      <td>0316</td>\n",
       "      <td>8</td>\n",
       "      <td>45 30 C0 0D 30 2A 00 7F</td>\n",
       "      <td>R</td>\n",
       "    </tr>\n",
       "    <tr>\n",
       "      <th>205777</th>\n",
       "      <td>1.513925e+09</td>\n",
       "      <td>0316</td>\n",
       "      <td>8</td>\n",
       "      <td>45 30 C0 0D 30 2A 00 7F</td>\n",
       "      <td>R</td>\n",
       "    </tr>\n",
       "    <tr>\n",
       "      <th>...</th>\n",
       "      <td>...</td>\n",
       "      <td>...</td>\n",
       "      <td>...</td>\n",
       "      <td>...</td>\n",
       "      <td>...</td>\n",
       "    </tr>\n",
       "    <tr>\n",
       "      <th>212328</th>\n",
       "      <td>1.513925e+09</td>\n",
       "      <td>0316</td>\n",
       "      <td>8</td>\n",
       "      <td>45 30 C0 0D 30 2A 00 7F</td>\n",
       "      <td>R</td>\n",
       "    </tr>\n",
       "    <tr>\n",
       "      <th>216007</th>\n",
       "      <td>1.513925e+09</td>\n",
       "      <td>0316</td>\n",
       "      <td>8</td>\n",
       "      <td>45 30 C0 0D 30 2A 00 7F</td>\n",
       "      <td>R</td>\n",
       "    </tr>\n",
       "    <tr>\n",
       "      <th>216034</th>\n",
       "      <td>1.513925e+09</td>\n",
       "      <td>0316</td>\n",
       "      <td>8</td>\n",
       "      <td>45 30 C0 0D 30 2A 00 7F</td>\n",
       "      <td>R</td>\n",
       "    </tr>\n",
       "    <tr>\n",
       "      <th>217954</th>\n",
       "      <td>1.513925e+09</td>\n",
       "      <td>0316</td>\n",
       "      <td>8</td>\n",
       "      <td>45 30 C0 0D 30 2A 00 7F</td>\n",
       "      <td>R</td>\n",
       "    </tr>\n",
       "    <tr>\n",
       "      <th>221350</th>\n",
       "      <td>1.513925e+09</td>\n",
       "      <td>0316</td>\n",
       "      <td>8</td>\n",
       "      <td>45 30 C0 0D 30 2A 00 7F</td>\n",
       "      <td>R</td>\n",
       "    </tr>\n",
       "    <tr>\n",
       "      <th>232793</th>\n",
       "      <td>1.513925e+09</td>\n",
       "      <td>0316</td>\n",
       "      <td>8</td>\n",
       "      <td>45 30 C0 0D 30 2A 00 7F</td>\n",
       "      <td>R</td>\n",
       "    </tr>\n",
       "    <tr>\n",
       "      <th>232824</th>\n",
       "      <td>1.513925e+09</td>\n",
       "      <td>0316</td>\n",
       "      <td>8</td>\n",
       "      <td>45 30 C0 0D 30 2A 00 7F</td>\n",
       "      <td>R</td>\n",
       "    </tr>\n",
       "    <tr>\n",
       "      <th>233467</th>\n",
       "      <td>1.513925e+09</td>\n",
       "      <td>0316</td>\n",
       "      <td>8</td>\n",
       "      <td>45 30 C0 0D 30 2A 00 7F</td>\n",
       "      <td>R</td>\n",
       "    </tr>\n",
       "    <tr>\n",
       "      <th>234037</th>\n",
       "      <td>1.513925e+09</td>\n",
       "      <td>0316</td>\n",
       "      <td>8</td>\n",
       "      <td>45 30 C0 0D 30 2A 00 7F</td>\n",
       "      <td>R</td>\n",
       "    </tr>\n",
       "    <tr>\n",
       "      <th>234053</th>\n",
       "      <td>1.513925e+09</td>\n",
       "      <td>0316</td>\n",
       "      <td>8</td>\n",
       "      <td>45 30 C0 0D 30 2A 00 7F</td>\n",
       "      <td>R</td>\n",
       "    </tr>\n",
       "    <tr>\n",
       "      <th>234070</th>\n",
       "      <td>1.513925e+09</td>\n",
       "      <td>0316</td>\n",
       "      <td>8</td>\n",
       "      <td>45 30 C0 0D 30 2A 00 7F</td>\n",
       "      <td>R</td>\n",
       "    </tr>\n",
       "    <tr>\n",
       "      <th>234096</th>\n",
       "      <td>1.513925e+09</td>\n",
       "      <td>0316</td>\n",
       "      <td>8</td>\n",
       "      <td>45 30 C0 0D 30 2A 00 7F</td>\n",
       "      <td>R</td>\n",
       "    </tr>\n",
       "    <tr>\n",
       "      <th>236335</th>\n",
       "      <td>1.513925e+09</td>\n",
       "      <td>0316</td>\n",
       "      <td>8</td>\n",
       "      <td>45 30 C0 0D 30 2A 00 7F</td>\n",
       "      <td>R</td>\n",
       "    </tr>\n",
       "    <tr>\n",
       "      <th>236355</th>\n",
       "      <td>1.513925e+09</td>\n",
       "      <td>0316</td>\n",
       "      <td>8</td>\n",
       "      <td>45 30 C0 0D 30 2A 00 7F</td>\n",
       "      <td>R</td>\n",
       "    </tr>\n",
       "    <tr>\n",
       "      <th>239987</th>\n",
       "      <td>1.513925e+09</td>\n",
       "      <td>0316</td>\n",
       "      <td>8</td>\n",
       "      <td>45 30 C0 0D 30 2A 00 7F</td>\n",
       "      <td>R</td>\n",
       "    </tr>\n",
       "    <tr>\n",
       "      <th>240000</th>\n",
       "      <td>1.513925e+09</td>\n",
       "      <td>0316</td>\n",
       "      <td>8</td>\n",
       "      <td>45 30 C0 0D 30 2A 00 7F</td>\n",
       "      <td>R</td>\n",
       "    </tr>\n",
       "    <tr>\n",
       "      <th>240527</th>\n",
       "      <td>1.513925e+09</td>\n",
       "      <td>0316</td>\n",
       "      <td>8</td>\n",
       "      <td>45 30 C0 0D 30 2A 00 7F</td>\n",
       "      <td>R</td>\n",
       "    </tr>\n",
       "    <tr>\n",
       "      <th>241233</th>\n",
       "      <td>1.513925e+09</td>\n",
       "      <td>0316</td>\n",
       "      <td>8</td>\n",
       "      <td>45 30 C0 0D 30 2A 00 7F</td>\n",
       "      <td>R</td>\n",
       "    </tr>\n",
       "    <tr>\n",
       "      <th>244921</th>\n",
       "      <td>1.513925e+09</td>\n",
       "      <td>0316</td>\n",
       "      <td>8</td>\n",
       "      <td>45 30 C0 0D 30 2A 00 7F</td>\n",
       "      <td>R</td>\n",
       "    </tr>\n",
       "    <tr>\n",
       "      <th>244939</th>\n",
       "      <td>1.513925e+09</td>\n",
       "      <td>0316</td>\n",
       "      <td>8</td>\n",
       "      <td>45 30 C0 0D 30 2A 00 7F</td>\n",
       "      <td>R</td>\n",
       "    </tr>\n",
       "    <tr>\n",
       "      <th>249563</th>\n",
       "      <td>1.513925e+09</td>\n",
       "      <td>0316</td>\n",
       "      <td>8</td>\n",
       "      <td>45 30 C0 0D 30 2A 00 7F</td>\n",
       "      <td>R</td>\n",
       "    </tr>\n",
       "    <tr>\n",
       "      <th>250574</th>\n",
       "      <td>1.513925e+09</td>\n",
       "      <td>0316</td>\n",
       "      <td>8</td>\n",
       "      <td>45 30 C0 0D 30 2A 00 7F</td>\n",
       "      <td>R</td>\n",
       "    </tr>\n",
       "    <tr>\n",
       "      <th>250592</th>\n",
       "      <td>1.513925e+09</td>\n",
       "      <td>0316</td>\n",
       "      <td>8</td>\n",
       "      <td>45 30 C0 0D 30 2A 00 7F</td>\n",
       "      <td>R</td>\n",
       "    </tr>\n",
       "    <tr>\n",
       "      <th>256417</th>\n",
       "      <td>1.513925e+09</td>\n",
       "      <td>0316</td>\n",
       "      <td>8</td>\n",
       "      <td>45 30 C0 0D 30 2A 00 7F</td>\n",
       "      <td>R</td>\n",
       "    </tr>\n",
       "    <tr>\n",
       "      <th>256439</th>\n",
       "      <td>1.513925e+09</td>\n",
       "      <td>0316</td>\n",
       "      <td>8</td>\n",
       "      <td>45 30 C0 0D 30 2A 00 7F</td>\n",
       "      <td>R</td>\n",
       "    </tr>\n",
       "    <tr>\n",
       "      <th>257688</th>\n",
       "      <td>1.513925e+09</td>\n",
       "      <td>0316</td>\n",
       "      <td>8</td>\n",
       "      <td>45 30 C0 0D 30 2A 00 7F</td>\n",
       "      <td>R</td>\n",
       "    </tr>\n",
       "    <tr>\n",
       "      <th>259756</th>\n",
       "      <td>1.513925e+09</td>\n",
       "      <td>0316</td>\n",
       "      <td>8</td>\n",
       "      <td>45 30 C0 0D 30 2A 00 7F</td>\n",
       "      <td>R</td>\n",
       "    </tr>\n",
       "    <tr>\n",
       "      <th>259779</th>\n",
       "      <td>1.513925e+09</td>\n",
       "      <td>0316</td>\n",
       "      <td>8</td>\n",
       "      <td>45 30 C0 0D 30 2A 00 7F</td>\n",
       "      <td>R</td>\n",
       "    </tr>\n",
       "    <tr>\n",
       "      <th>265713</th>\n",
       "      <td>1.513925e+09</td>\n",
       "      <td>0316</td>\n",
       "      <td>8</td>\n",
       "      <td>45 30 C0 0D 30 2A 00 7F</td>\n",
       "      <td>R</td>\n",
       "    </tr>\n",
       "    <tr>\n",
       "      <th>265734</th>\n",
       "      <td>1.513925e+09</td>\n",
       "      <td>0316</td>\n",
       "      <td>8</td>\n",
       "      <td>45 30 C0 0D 30 2A 00 7F</td>\n",
       "      <td>R</td>\n",
       "    </tr>\n",
       "  </tbody>\n",
       "</table>\n",
       "<p>63 rows × 5 columns</p>\n",
       "</div>"
      ],
      "text/plain": [
       "            Timestap CANID  DLC                DataField Class\n",
       "5607    1.513925e+09  0316    8  45 30 C0 0D 30 2A 00 7F     R\n",
       "12312   1.513925e+09  0316    8  45 30 C0 0D 30 2A 00 7F     R\n",
       "1303    1.513925e+09  0316    8  45 30 C0 0D 30 2A 00 7F     T\n",
       "3397    1.513925e+09  0316    8  45 30 C0 0D 30 2A 00 7F     T\n",
       "4147    1.513925e+09  0316    8  45 30 C0 0D 30 2A 00 7F     R\n",
       "5226    1.513925e+09  0316    8  45 30 C0 0D 30 2A 00 7F     R\n",
       "5259    1.513925e+09  0316    8  45 30 C0 0D 30 2A 00 7F     R\n",
       "9261    1.513925e+09  0316    8  45 30 C0 0D 30 2A 00 7F     R\n",
       "9276    1.513925e+09  0316    8  45 30 C0 0D 30 2A 00 7F     R\n",
       "10519   1.513925e+09  0316    8  45 30 C0 0D 30 2A 00 7F     R\n",
       "15229   1.513925e+09  0316    8  45 30 C0 0D 30 2A 00 7F     R\n",
       "15250   1.513925e+09  0316    8  45 30 C0 0D 30 2A 00 7F     R\n",
       "22148   1.513925e+09  0316    8  45 30 C0 0D 30 2A 00 7F     R\n",
       "22168   1.513925e+09  0316    8  45 30 C0 0D 30 2A 00 7F     R\n",
       "24802   1.513925e+09  0316    8  45 30 C0 0D 30 2A 00 7F     R\n",
       "28901   1.513925e+09  0316    8  45 30 C0 0D 30 2A 00 7F     R\n",
       "28922   1.513925e+09  0316    8  45 30 C0 0D 30 2A 00 7F     R\n",
       "29737   1.513925e+09  0316    8  45 30 C0 0D 30 2A 00 7F     R\n",
       "35023   1.513925e+09  0316    8  45 30 C0 0D 30 2A 00 7F     R\n",
       "38350   1.513925e+09  0316    8  45 30 C0 0D 30 2A 00 7F     R\n",
       "39206   1.513925e+09  0316    8  45 30 C0 0D 30 2A 00 7F     R\n",
       "39226   1.513925e+09  0316    8  45 30 C0 0D 30 2A 00 7F     R\n",
       "41303   1.513925e+09  0316    8  45 30 C0 0D 30 2A 00 7F     R\n",
       "43951   1.513925e+09  0316    8  45 30 C0 0D 30 2A 00 7F     R\n",
       "43975   1.513925e+09  0316    8  45 30 C0 0D 30 2A 00 7F     R\n",
       "44282   1.513925e+09  0316    8  45 30 C0 0D 30 2A 00 7F     R\n",
       "44306   1.513925e+09  0316    8  45 30 C0 0D 30 2A 00 7F     R\n",
       "45694   1.513925e+09  0316    8  45 30 C0 0D 30 2A 00 7F     R\n",
       "138704  1.513925e+09  0316    8  45 30 C0 0D 30 2A 00 7F     R\n",
       "205777  1.513925e+09  0316    8  45 30 C0 0D 30 2A 00 7F     R\n",
       "...              ...   ...  ...                      ...   ...\n",
       "212328  1.513925e+09  0316    8  45 30 C0 0D 30 2A 00 7F     R\n",
       "216007  1.513925e+09  0316    8  45 30 C0 0D 30 2A 00 7F     R\n",
       "216034  1.513925e+09  0316    8  45 30 C0 0D 30 2A 00 7F     R\n",
       "217954  1.513925e+09  0316    8  45 30 C0 0D 30 2A 00 7F     R\n",
       "221350  1.513925e+09  0316    8  45 30 C0 0D 30 2A 00 7F     R\n",
       "232793  1.513925e+09  0316    8  45 30 C0 0D 30 2A 00 7F     R\n",
       "232824  1.513925e+09  0316    8  45 30 C0 0D 30 2A 00 7F     R\n",
       "233467  1.513925e+09  0316    8  45 30 C0 0D 30 2A 00 7F     R\n",
       "234037  1.513925e+09  0316    8  45 30 C0 0D 30 2A 00 7F     R\n",
       "234053  1.513925e+09  0316    8  45 30 C0 0D 30 2A 00 7F     R\n",
       "234070  1.513925e+09  0316    8  45 30 C0 0D 30 2A 00 7F     R\n",
       "234096  1.513925e+09  0316    8  45 30 C0 0D 30 2A 00 7F     R\n",
       "236335  1.513925e+09  0316    8  45 30 C0 0D 30 2A 00 7F     R\n",
       "236355  1.513925e+09  0316    8  45 30 C0 0D 30 2A 00 7F     R\n",
       "239987  1.513925e+09  0316    8  45 30 C0 0D 30 2A 00 7F     R\n",
       "240000  1.513925e+09  0316    8  45 30 C0 0D 30 2A 00 7F     R\n",
       "240527  1.513925e+09  0316    8  45 30 C0 0D 30 2A 00 7F     R\n",
       "241233  1.513925e+09  0316    8  45 30 C0 0D 30 2A 00 7F     R\n",
       "244921  1.513925e+09  0316    8  45 30 C0 0D 30 2A 00 7F     R\n",
       "244939  1.513925e+09  0316    8  45 30 C0 0D 30 2A 00 7F     R\n",
       "249563  1.513925e+09  0316    8  45 30 C0 0D 30 2A 00 7F     R\n",
       "250574  1.513925e+09  0316    8  45 30 C0 0D 30 2A 00 7F     R\n",
       "250592  1.513925e+09  0316    8  45 30 C0 0D 30 2A 00 7F     R\n",
       "256417  1.513925e+09  0316    8  45 30 C0 0D 30 2A 00 7F     R\n",
       "256439  1.513925e+09  0316    8  45 30 C0 0D 30 2A 00 7F     R\n",
       "257688  1.513925e+09  0316    8  45 30 C0 0D 30 2A 00 7F     R\n",
       "259756  1.513925e+09  0316    8  45 30 C0 0D 30 2A 00 7F     R\n",
       "259779  1.513925e+09  0316    8  45 30 C0 0D 30 2A 00 7F     R\n",
       "265713  1.513925e+09  0316    8  45 30 C0 0D 30 2A 00 7F     R\n",
       "265734  1.513925e+09  0316    8  45 30 C0 0D 30 2A 00 7F     R\n",
       "\n",
       "[63 rows x 5 columns]"
      ]
     },
     "execution_count": 34,
     "metadata": {},
     "output_type": "execute_result"
    }
   ],
   "source": [
    "TRAIN[TRAIN['DataField']=='45 30 C0 0D 30 2A 00 7F']"
   ]
  },
  {
   "cell_type": "code",
   "execution_count": 46,
   "metadata": {},
   "outputs": [
    {
     "data": {
      "text/plain": [
       "50"
      ]
     },
     "execution_count": 46,
     "metadata": {},
     "output_type": "execute_result"
    }
   ],
   "source": [
    "len(set(TEST['CANID'].unique()).intersection(set(TRAIN['CANID'].unique())))"
   ]
  },
  {
   "cell_type": "code",
   "execution_count": 41,
   "metadata": {},
   "outputs": [
    {
     "data": {
      "text/plain": [
       "272153"
      ]
     },
     "execution_count": 41,
     "metadata": {},
     "output_type": "execute_result"
    }
   ],
   "source": [
    "print(\"\" : len(set(TEST['DataField'].unique()).difference(set(TRAIN['DataField'].unique()))))"
   ]
  },
  {
   "cell_type": "code",
   "execution_count": 45,
   "metadata": {},
   "outputs": [
    {
     "name": "stdout",
     "output_type": "stream",
     "text": [
      ": 55227\n"
     ]
    }
   ],
   "source": [
    "print(\":\", len(set(TEST['DataField'].unique()).intersection(set(TRAIN['DataField'].unique()))))"
   ]
  },
  {
   "cell_type": "code",
   "execution_count": 47,
   "metadata": {},
   "outputs": [
    {
     "data": {
      "text/plain": [
       "0.2029262951354569"
      ]
     },
     "execution_count": 47,
     "metadata": {},
     "output_type": "execute_result"
    }
   ],
   "source": [
    "55227/272153"
   ]
  },
  {
   "cell_type": "code",
   "execution_count": 33,
   "metadata": {},
   "outputs": [
    {
     "data": {
      "image/png": "[encoded data removed]",
      "text/plain": [
       "<Figure size 1000x600 with 1 Axes>"
      ]
     },
     "metadata": {
      "needs_background": "light"
     },
     "output_type": "display_data"
    },
    {
     "data": {
      "text/plain": [
       "<ggplot: (-9223371945496847893)>"
      ]
     },
     "execution_count": 33,
     "metadata": {},
     "output_type": "execute_result"
    }
   ],
   "source": [
    "agg1 = TRAIN[TRAIN['DataField']=='45 30 C0 0D 30 2A 00 7F'].groupby(['CANID'])['Class'].agg({'nunique','unique'}).reset_index().rename(columns={'nunique':'클래스의 종류의 수', 'unique':'Class'})\n",
    "agg1['Class'] = agg1['Class'].astype(str).apply(lambda x: x[2])\n",
    "(ggplot(agg1)\n",
    " + geom_bar(aes(x='CANID', fill='Class'),  position = \"identity\", colour=\"black\") \n",
    " + scale_fill_brewer(palette = \"Reds\")\n",
    " + ggtitle(\"DataField에 따른 클래스의 갯수\") \n",
    " + theme_minimal() + theme(text=element_text(family=font), figure_size=(10, 6)))"
   ]
  },
  {
   "cell_type": "markdown",
   "metadata": {},
   "source": [
    "## Rule 1 : CANID가 1인 값들에 속하면 해당하는 Class로 분류 "
   ]
  },
  {
   "cell_type": "code",
   "execution_count": 48,
   "metadata": {},
   "outputs": [
    {
     "data": {
      "text/plain": [
       "set()"
      ]
     },
     "execution_count": 48,
     "metadata": {},
     "output_type": "execute_result"
    }
   ],
   "source": [
    "set(TEST['CANID'].unique()).difference(set(np.append(CANID_NUNIQUE1,CANID_NUNIQUE2)))"
   ]
  },
  {
   "cell_type": "code",
   "execution_count": 49,
   "metadata": {},
   "outputs": [
    {
     "data": {
      "text/plain": [
       "(50, 50)"
      ]
     },
     "execution_count": 49,
     "metadata": {},
     "output_type": "execute_result"
    }
   ],
   "source": [
    "len(CANID_NUNIQUE1),len(CANID_NUNIQUE2)"
   ]
  },
  {
   "cell_type": "code",
   "execution_count": 50,
   "metadata": {},
   "outputs": [],
   "source": [
    "CANID_NUNIQUE1_TABLE = pd.DataFrame()\n",
    "CANID_NUNIQUE1_TABLE['CANID'] = CANID_NUNIQUE1\n",
    "CANID_NUNIQUE1_TABLE = pd.merge(CANID_NUNIQUE1_TABLE, CANID_UNIQUE,how='left',on='CANID')"
   ]
  },
  {
   "cell_type": "code",
   "execution_count": 51,
   "metadata": {
    "scrolled": true
   },
   "outputs": [
    {
     "data": {
      "text/html": [
       "<div>\n",
       "<style scoped>\n",
       "    .dataframe tbody tr th:only-of-type {\n",
       "        vertical-align: middle;\n",
       "    }\n",
       "\n",
       "    .dataframe tbody tr th {\n",
       "        vertical-align: top;\n",
       "    }\n",
       "\n",
       "    .dataframe thead th {\n",
       "        text-align: right;\n",
       "    }\n",
       "</style>\n",
       "<table border=\"1\" class=\"dataframe\">\n",
       "  <thead>\n",
       "    <tr style=\"text-align: right;\">\n",
       "      <th></th>\n",
       "      <th>CANID</th>\n",
       "      <th>RULE1</th>\n",
       "    </tr>\n",
       "  </thead>\n",
       "  <tbody>\n",
       "    <tr>\n",
       "      <th>0</th>\n",
       "      <td>002</td>\n",
       "      <td>R</td>\n",
       "    </tr>\n",
       "    <tr>\n",
       "      <th>1</th>\n",
       "      <td>018</td>\n",
       "      <td>R</td>\n",
       "    </tr>\n",
       "    <tr>\n",
       "      <th>2</th>\n",
       "      <td>034</td>\n",
       "      <td>R</td>\n",
       "    </tr>\n",
       "    <tr>\n",
       "      <th>3</th>\n",
       "      <td>042</td>\n",
       "      <td>R</td>\n",
       "    </tr>\n",
       "    <tr>\n",
       "      <th>4</th>\n",
       "      <td>043</td>\n",
       "      <td>R</td>\n",
       "    </tr>\n",
       "  </tbody>\n",
       "</table>\n",
       "</div>"
      ],
      "text/plain": [
       "  CANID RULE1\n",
       "0   002     R\n",
       "1   018     R\n",
       "2   034     R\n",
       "3   042     R\n",
       "4   043     R"
      ]
     },
     "execution_count": 51,
     "metadata": {},
     "output_type": "execute_result"
    }
   ],
   "source": [
    "CANID_NUNIQUE1_TABLE['RULE1'] = CANID_NUNIQUE1_TABLE['unique'].astype(str).apply(lambda x: x[2])\n",
    "CANID_NUNIQUE1_TABLE = CANID_NUNIQUE1_TABLE[['CANID', 'RULE1']]\n",
    "# CANID_NUNIQUE1_TABLE = pd.merge(CANID_NUNIQUE1_TABLE, DATAFILE_NUNIQUE ,how='left',on='CANID')\n",
    "CANID_NUNIQUE1_TABLE.head() "
   ]
  },
  {
   "cell_type": "code",
   "execution_count": 52,
   "metadata": {},
   "outputs": [],
   "source": [
    "TEST = TEST.merge(CANID_NUNIQUE1_TABLE, how='left', on='CANID')"
   ]
  },
  {
   "cell_type": "code",
   "execution_count": 53,
   "metadata": {},
   "outputs": [
    {
     "data": {
      "text/plain": [
       "1.0"
      ]
     },
     "execution_count": 53,
     "metadata": {},
     "output_type": "execute_result"
    }
   ],
   "source": [
    "TEST['RULE1'].isnull().sum() / TEST.shape[0]"
   ]
  },
  {
   "cell_type": "markdown",
   "metadata": {},
   "source": [
    "## Rule 2 : CANID가 2인 값들에 속하면 DataField에 의해 해당하는 Class로 분류 "
   ]
  },
  {
   "cell_type": "code",
   "execution_count": 54,
   "metadata": {},
   "outputs": [],
   "source": [
    "T_solution = pd.DataFrame()\n",
    "T_solution['DataField'] = list(set(T_DataField))\n",
    "T_solution['RULE2'] = 'T'\n",
    "\n",
    "R_solution = pd.DataFrame()\n",
    "R_solution['DataField'] = list(set(R_DataField))\n",
    "R_solution['RULE2'] = 'R'\n",
    "\n",
    "SOLUTION = pd.concat([T_solution, R_solution],axis=0).reset_index(drop=True)\n",
    "SOLUTION = SOLUTION[SOLUTION['DataField'] != '00 00 00 00 00 00 00 00']\n",
    "\n",
    "TEST = TEST.merge(SOLUTION, how='left', on='DataField')"
   ]
  },
  {
   "cell_type": "code",
   "execution_count": 55,
   "metadata": {},
   "outputs": [
    {
     "data": {
      "text/plain": [
       "0.38187036934536284"
      ]
     },
     "execution_count": 55,
     "metadata": {},
     "output_type": "execute_result"
    }
   ],
   "source": [
    "TEST['RULE2'].isnull().sum() / TEST.shape[0]"
   ]
  },
  {
   "cell_type": "markdown",
   "metadata": {},
   "source": [
    "## Rule 3 : 00 00 00 00 00 00 00 00의 경우 CANID가 0000인지 여부에 따라 Class 분류 "
   ]
  },
  {
   "cell_type": "code",
   "execution_count": null,
   "metadata": {},
   "outputs": [],
   "source": [
    "T_CANID_0 = []\n",
    "R_CANID_0 = []"
   ]
  },
  {
   "cell_type": "code",
   "execution_count": null,
   "metadata": {},
   "outputs": [],
   "source": [
    "TEST.loc[TEST['DataField']=='00 00 00 00 00 00 00 00', 'RULE2'] = 'R'\n",
    "TEST.loc[(TEST['DataField']=='00 00 00 00 00 00 00 00') & (TEST['CANID']=='0000'), 'RULE2'] = 'T'"
   ]
  },
  {
   "cell_type": "code",
   "execution_count": null,
   "metadata": {},
   "outputs": [],
   "source": [
    "TEST['RULE'] = TEST['RULE2'].fillna(TEST['RULE1'])"
   ]
  },
  {
   "cell_type": "code",
   "execution_count": null,
   "metadata": {},
   "outputs": [],
   "source": [
    "TEST['RULE'].isnull().sum()"
   ]
  },
  {
   "cell_type": "code",
   "execution_count": null,
   "metadata": {},
   "outputs": [],
   "source": [
    "TEST['RULE1'].isnull().sum()"
   ]
  },
  {
   "cell_type": "code",
   "execution_count": null,
   "metadata": {},
   "outputs": [],
   "source": [
    "TEST.shape"
   ]
  },
  {
   "cell_type": "markdown",
   "metadata": {},
   "source": [
    "## Rule 4 : 새로운 유형인 경우 Boosting Model을 이용해서 분류 "
   ]
  },
  {
   "cell_type": "code",
   "execution_count": null,
   "metadata": {},
   "outputs": [],
   "source": [
    "def transform_transaction_catcols(df1, df2):\n",
    "    for cat_col in tqdm_notebook(categorical_features): \n",
    "        # Get the indices for NaN values\n",
    "        trn_null_ind = [ind for ind, val in enumerate(df1[cat_col].isnull().values) if val == True]\n",
    "        ts_null_ind = [ind for ind, val in enumerate(df2[cat_col].isnull().values) if val == True]\n",
    "        \n",
    "        uniq_train_cat_val , uniq_test_cat_val = set(df1[cat_col].dropna() ), set(df2[cat_col].dropna() )\n",
    "        common_cat_val = uniq_train_cat_val.intersection(uniq_test_cat_val)\n",
    "        df1.loc[ ~df1[cat_col].isin( common_cat_val), cat_col ] = -99999\n",
    "        df2.loc[ ~df2[cat_col].isin( common_cat_val), cat_col ] = -99999\n",
    "        \n",
    "        # Replace the value for orignal NaN values\n",
    "        df1.loc[df1.index.isin(trn_null_ind), cat_col] = np.NaN\n",
    "        df2.loc[df2.index.isin(ts_null_ind), cat_col] = np.NaN\n",
    "        \n",
    "    del uniq_train_cat_val, uniq_test_cat_val, common_cat_val; gc.collect()\n",
    "\n",
    "    return df1, df2"
   ]
  },
  {
   "cell_type": "code",
   "execution_count": null,
   "metadata": {},
   "outputs": [],
   "source": [
    "def period_window(df, window=100):\n",
    "    df[f'period_window_{window}'] = df.rolling(window, min_periods=1).Timestap.progress_apply(lambda dt: dt.max() - dt.min())\n",
    "    return df\n",
    "\n",
    "def can_id_freq_window(df, window=100):\n",
    "    def get_freq(data):\n",
    "        data = pd.Series(data)\n",
    "        return data.value_counts()[data.values[-1]]\n",
    "    \n",
    "    df[f'can_id_freq_window_{window}'] = df.rolling(window, min_periods=1).CANID.progress_apply(get_freq)\n",
    "    return df"
   ]
  },
  {
   "cell_type": "code",
   "execution_count": 64,
   "metadata": {},
   "outputs": [
    {
     "name": "stderr",
     "output_type": "stream",
     "text": [
      "0it [00:00, ?it/s]C:\\Users\\choco\\Anaconda3\\lib\\site-packages\\tqdm\\_tqdm.py:677: FutureWarning: Currently, 'apply' passes the values as ndarrays to the applied function. In the future, this will change to passing it as Series objects. You need to specify 'raw=True' to keep the current behaviour, and you can pass 'raw=False' to silence this warning\n",
      "  result = getattr(df, df_function)(wrapper, **kwargs)\n",
      "2320454it [00:25, 91749.89it/s] \n",
      "1391137it [00:15, 89457.85it/s] \n"
     ]
    }
   ],
   "source": [
    "TRAIN = period_window(TRAIN)\n",
    "TEST = period_window(TEST)"
   ]
  },
  {
   "cell_type": "code",
   "execution_count": 65,
   "metadata": {},
   "outputs": [
    {
     "data": {
      "application/vnd.jupyter.widget-view+json": {
       "model_id": "5485fad53c5748a7893653d66227103c",
       "version_major": 2,
       "version_minor": 0
      },
      "text/plain": [
       "HBox(children=(IntProgress(value=0, max=5), HTML(value='')))"
      ]
     },
     "metadata": {},
     "output_type": "display_data"
    },
    {
     "name": "stderr",
     "output_type": "stream",
     "text": [
      "C:\\Users\\choco\\Anaconda3\\lib\\site-packages\\ipykernel_launcher.py:22: FutureWarning: Sorting because non-concatenation axis is not aligned. A future version\n",
      "of pandas will change to not sort by default.\n",
      "\n",
      "To accept the future behavior, pass 'sort=False'.\n",
      "\n",
      "To retain the current behavior and silence the warning, pass 'sort=True'.\n",
      "\n",
      "C:\\Users\\choco\\Anaconda3\\lib\\site-packages\\ipykernel_launcher.py:23: FutureWarning: Sorting because non-concatenation axis is not aligned. A future version\n",
      "of pandas will change to not sort by default.\n",
      "\n",
      "To accept the future behavior, pass 'sort=False'.\n",
      "\n",
      "To retain the current behavior and silence the warning, pass 'sort=True'.\n",
      "\n"
     ]
    },
    {
     "name": "stdout",
     "output_type": "stream",
     "text": [
      "\n"
     ]
    },
    {
     "data": {
      "application/vnd.jupyter.widget-view+json": {
       "model_id": "1bd25b3b4adf47b1902a304aa909dc72",
       "version_major": 2,
       "version_minor": 0
      },
      "text/plain": [
       "HBox(children=(IntProgress(value=0, max=16), HTML(value='')))"
      ]
     },
     "metadata": {},
     "output_type": "display_data"
    },
    {
     "name": "stdout",
     "output_type": "stream",
     "text": [
      "\n"
     ]
    },
    {
     "name": "stderr",
     "output_type": "stream",
     "text": [
      "81848it [02:57, 863.81it/s]"
     ]
    },
    {
     "ename": "KeyboardInterrupt",
     "evalue": "",
     "output_type": "error",
     "traceback": [
      "\u001b[1;31m---------------------------------------------------------------------------\u001b[0m",
      "\u001b[1;31mKeyboardInterrupt\u001b[0m                         Traceback (most recent call last)",
      "\u001b[1;32m<ipython-input-65-ab48fb45a976>\u001b[0m in \u001b[0;36m<module>\u001b[1;34m\u001b[0m\n\u001b[0;32m     32\u001b[0m         \u001b[0mTEST_df\u001b[0m\u001b[1;33m[\u001b[0m\u001b[0mcol\u001b[0m\u001b[1;33m]\u001b[0m \u001b[1;33m=\u001b[0m \u001b[0mle\u001b[0m\u001b[1;33m.\u001b[0m\u001b[0mtransform\u001b[0m\u001b[1;33m(\u001b[0m\u001b[0mlist\u001b[0m\u001b[1;33m(\u001b[0m\u001b[0mTEST_df\u001b[0m\u001b[1;33m[\u001b[0m\u001b[0mcol\u001b[0m\u001b[1;33m]\u001b[0m\u001b[1;33m.\u001b[0m\u001b[0mastype\u001b[0m\u001b[1;33m(\u001b[0m\u001b[0mstr\u001b[0m\u001b[1;33m)\u001b[0m\u001b[1;33m.\u001b[0m\u001b[0mvalues\u001b[0m\u001b[1;33m)\u001b[0m\u001b[1;33m)\u001b[0m\u001b[1;33m\u001b[0m\u001b[1;33m\u001b[0m\u001b[0m\n\u001b[0;32m     33\u001b[0m \u001b[1;33m\u001b[0m\u001b[0m\n\u001b[1;32m---> 34\u001b[1;33m \u001b[0mTRAIN_df\u001b[0m \u001b[1;33m=\u001b[0m \u001b[0mcan_id_freq_window\u001b[0m\u001b[1;33m(\u001b[0m\u001b[0mTRAIN_df\u001b[0m\u001b[1;33m)\u001b[0m\u001b[1;33m\u001b[0m\u001b[1;33m\u001b[0m\u001b[0m\n\u001b[0m\u001b[0;32m     35\u001b[0m \u001b[0mTEST_df\u001b[0m \u001b[1;33m=\u001b[0m \u001b[0mcan_id_freq_window\u001b[0m\u001b[1;33m(\u001b[0m\u001b[0mTEST_df\u001b[0m\u001b[1;33m)\u001b[0m\u001b[1;33m\u001b[0m\u001b[1;33m\u001b[0m\u001b[0m\n",
      "\u001b[1;32m<ipython-input-61-aeb83279c6c0>\u001b[0m in \u001b[0;36mcan_id_freq_window\u001b[1;34m(df, window)\u001b[0m\n\u001b[0;32m      8\u001b[0m         \u001b[1;32mreturn\u001b[0m \u001b[0mdata\u001b[0m\u001b[1;33m.\u001b[0m\u001b[0mvalue_counts\u001b[0m\u001b[1;33m(\u001b[0m\u001b[1;33m)\u001b[0m\u001b[1;33m[\u001b[0m\u001b[0mdata\u001b[0m\u001b[1;33m.\u001b[0m\u001b[0mvalues\u001b[0m\u001b[1;33m[\u001b[0m\u001b[1;33m-\u001b[0m\u001b[1;36m1\u001b[0m\u001b[1;33m]\u001b[0m\u001b[1;33m]\u001b[0m\u001b[1;33m\u001b[0m\u001b[1;33m\u001b[0m\u001b[0m\n\u001b[0;32m      9\u001b[0m \u001b[1;33m\u001b[0m\u001b[0m\n\u001b[1;32m---> 10\u001b[1;33m     \u001b[0mdf\u001b[0m\u001b[1;33m[\u001b[0m\u001b[1;34mf'can_id_freq_window_{window}'\u001b[0m\u001b[1;33m]\u001b[0m \u001b[1;33m=\u001b[0m \u001b[0mdf\u001b[0m\u001b[1;33m.\u001b[0m\u001b[0mrolling\u001b[0m\u001b[1;33m(\u001b[0m\u001b[0mwindow\u001b[0m\u001b[1;33m,\u001b[0m \u001b[0mmin_periods\u001b[0m\u001b[1;33m=\u001b[0m\u001b[1;36m1\u001b[0m\u001b[1;33m)\u001b[0m\u001b[1;33m.\u001b[0m\u001b[0mCANID\u001b[0m\u001b[1;33m.\u001b[0m\u001b[0mprogress_apply\u001b[0m\u001b[1;33m(\u001b[0m\u001b[0mget_freq\u001b[0m\u001b[1;33m)\u001b[0m\u001b[1;33m\u001b[0m\u001b[1;33m\u001b[0m\u001b[0m\n\u001b[0m\u001b[0;32m     11\u001b[0m     \u001b[1;32mreturn\u001b[0m \u001b[0mdf\u001b[0m\u001b[1;33m\u001b[0m\u001b[1;33m\u001b[0m\u001b[0m\n",
      "\u001b[1;32m~\\Anaconda3\\lib\\site-packages\\tqdm\\_tqdm.py\u001b[0m in \u001b[0;36minner\u001b[1;34m(df, func, *args, **kwargs)\u001b[0m\n\u001b[0;32m    675\u001b[0m                 \u001b[1;31m# Apply the provided function (in **kwargs)\u001b[0m\u001b[1;33m\u001b[0m\u001b[1;33m\u001b[0m\u001b[1;33m\u001b[0m\u001b[0m\n\u001b[0;32m    676\u001b[0m                 \u001b[1;31m# on the df using our wrapper (which provides bar updating)\u001b[0m\u001b[1;33m\u001b[0m\u001b[1;33m\u001b[0m\u001b[1;33m\u001b[0m\u001b[0m\n\u001b[1;32m--> 677\u001b[1;33m                 \u001b[0mresult\u001b[0m \u001b[1;33m=\u001b[0m \u001b[0mgetattr\u001b[0m\u001b[1;33m(\u001b[0m\u001b[0mdf\u001b[0m\u001b[1;33m,\u001b[0m \u001b[0mdf_function\u001b[0m\u001b[1;33m)\u001b[0m\u001b[1;33m(\u001b[0m\u001b[0mwrapper\u001b[0m\u001b[1;33m,\u001b[0m \u001b[1;33m**\u001b[0m\u001b[0mkwargs\u001b[0m\u001b[1;33m)\u001b[0m\u001b[1;33m\u001b[0m\u001b[1;33m\u001b[0m\u001b[0m\n\u001b[0m\u001b[0;32m    678\u001b[0m \u001b[1;33m\u001b[0m\u001b[0m\n\u001b[0;32m    679\u001b[0m                 \u001b[1;31m# Close bar and return pandas calculation result\u001b[0m\u001b[1;33m\u001b[0m\u001b[1;33m\u001b[0m\u001b[1;33m\u001b[0m\u001b[0m\n",
      "\u001b[1;32m~\\Anaconda3\\lib\\site-packages\\pandas\\core\\window.py\u001b[0m in \u001b[0;36mapply\u001b[1;34m(self, func, raw, args, kwargs)\u001b[0m\n\u001b[0;32m   1701\u001b[0m     \u001b[1;32mdef\u001b[0m \u001b[0mapply\u001b[0m\u001b[1;33m(\u001b[0m\u001b[0mself\u001b[0m\u001b[1;33m,\u001b[0m \u001b[0mfunc\u001b[0m\u001b[1;33m,\u001b[0m \u001b[0mraw\u001b[0m\u001b[1;33m=\u001b[0m\u001b[1;32mNone\u001b[0m\u001b[1;33m,\u001b[0m \u001b[0margs\u001b[0m\u001b[1;33m=\u001b[0m\u001b[1;33m(\u001b[0m\u001b[1;33m)\u001b[0m\u001b[1;33m,\u001b[0m \u001b[0mkwargs\u001b[0m\u001b[1;33m=\u001b[0m\u001b[1;33m{\u001b[0m\u001b[1;33m}\u001b[0m\u001b[1;33m)\u001b[0m\u001b[1;33m:\u001b[0m\u001b[1;33m\u001b[0m\u001b[1;33m\u001b[0m\u001b[0m\n\u001b[0;32m   1702\u001b[0m         return super(Rolling, self).apply(\n\u001b[1;32m-> 1703\u001b[1;33m             func, raw=raw, args=args, kwargs=kwargs)\n\u001b[0m\u001b[0;32m   1704\u001b[0m \u001b[1;33m\u001b[0m\u001b[0m\n\u001b[0;32m   1705\u001b[0m     \u001b[1;33m@\u001b[0m\u001b[0mSubstitution\u001b[0m\u001b[1;33m(\u001b[0m\u001b[0mname\u001b[0m\u001b[1;33m=\u001b[0m\u001b[1;34m'rolling'\u001b[0m\u001b[1;33m)\u001b[0m\u001b[1;33m\u001b[0m\u001b[1;33m\u001b[0m\u001b[0m\n",
      "\u001b[1;32m~\\Anaconda3\\lib\\site-packages\\pandas\\core\\window.py\u001b[0m in \u001b[0;36mapply\u001b[1;34m(self, func, raw, args, kwargs)\u001b[0m\n\u001b[0;32m   1010\u001b[0m \u001b[1;33m\u001b[0m\u001b[0m\n\u001b[0;32m   1011\u001b[0m         return self._apply(f, func, args=args, kwargs=kwargs,\n\u001b[1;32m-> 1012\u001b[1;33m                            center=False, raw=raw)\n\u001b[0m\u001b[0;32m   1013\u001b[0m \u001b[1;33m\u001b[0m\u001b[0m\n\u001b[0;32m   1014\u001b[0m     \u001b[1;32mdef\u001b[0m \u001b[0msum\u001b[0m\u001b[1;33m(\u001b[0m\u001b[0mself\u001b[0m\u001b[1;33m,\u001b[0m \u001b[1;33m*\u001b[0m\u001b[0margs\u001b[0m\u001b[1;33m,\u001b[0m \u001b[1;33m**\u001b[0m\u001b[0mkwargs\u001b[0m\u001b[1;33m)\u001b[0m\u001b[1;33m:\u001b[0m\u001b[1;33m\u001b[0m\u001b[1;33m\u001b[0m\u001b[0m\n",
      "\u001b[1;32m~\\Anaconda3\\lib\\site-packages\\pandas\\core\\window.py\u001b[0m in \u001b[0;36m_apply\u001b[1;34m(self, func, name, window, center, check_minp, **kwargs)\u001b[0m\n\u001b[0;32m    878\u001b[0m                     \u001b[0mresult\u001b[0m \u001b[1;33m=\u001b[0m \u001b[0mnp\u001b[0m\u001b[1;33m.\u001b[0m\u001b[0mapply_along_axis\u001b[0m\u001b[1;33m(\u001b[0m\u001b[0mcalc\u001b[0m\u001b[1;33m,\u001b[0m \u001b[0mself\u001b[0m\u001b[1;33m.\u001b[0m\u001b[0maxis\u001b[0m\u001b[1;33m,\u001b[0m \u001b[0mvalues\u001b[0m\u001b[1;33m)\u001b[0m\u001b[1;33m\u001b[0m\u001b[1;33m\u001b[0m\u001b[0m\n\u001b[0;32m    879\u001b[0m                 \u001b[1;32melse\u001b[0m\u001b[1;33m:\u001b[0m\u001b[1;33m\u001b[0m\u001b[1;33m\u001b[0m\u001b[0m\n\u001b[1;32m--> 880\u001b[1;33m                     \u001b[0mresult\u001b[0m \u001b[1;33m=\u001b[0m \u001b[0mcalc\u001b[0m\u001b[1;33m(\u001b[0m\u001b[0mvalues\u001b[0m\u001b[1;33m)\u001b[0m\u001b[1;33m\u001b[0m\u001b[1;33m\u001b[0m\u001b[0m\n\u001b[0m\u001b[0;32m    881\u001b[0m \u001b[1;33m\u001b[0m\u001b[0m\n\u001b[0;32m    882\u001b[0m             \u001b[1;32mif\u001b[0m \u001b[0mcenter\u001b[0m\u001b[1;33m:\u001b[0m\u001b[1;33m\u001b[0m\u001b[1;33m\u001b[0m\u001b[0m\n",
      "\u001b[1;32m~\\Anaconda3\\lib\\site-packages\\pandas\\core\\window.py\u001b[0m in \u001b[0;36mcalc\u001b[1;34m(x)\u001b[0m\n\u001b[0;32m    872\u001b[0m                 \u001b[1;32mdef\u001b[0m \u001b[0mcalc\u001b[0m\u001b[1;33m(\u001b[0m\u001b[0mx\u001b[0m\u001b[1;33m)\u001b[0m\u001b[1;33m:\u001b[0m\u001b[1;33m\u001b[0m\u001b[1;33m\u001b[0m\u001b[0m\n\u001b[0;32m    873\u001b[0m                     return func(x, window, min_periods=self.min_periods,\n\u001b[1;32m--> 874\u001b[1;33m                                 closed=self.closed)\n\u001b[0m\u001b[0;32m    875\u001b[0m \u001b[1;33m\u001b[0m\u001b[0m\n\u001b[0;32m    876\u001b[0m             \u001b[1;32mwith\u001b[0m \u001b[0mnp\u001b[0m\u001b[1;33m.\u001b[0m\u001b[0merrstate\u001b[0m\u001b[1;33m(\u001b[0m\u001b[0mall\u001b[0m\u001b[1;33m=\u001b[0m\u001b[1;34m'ignore'\u001b[0m\u001b[1;33m)\u001b[0m\u001b[1;33m:\u001b[0m\u001b[1;33m\u001b[0m\u001b[1;33m\u001b[0m\u001b[0m\n",
      "\u001b[1;32m~\\Anaconda3\\lib\\site-packages\\pandas\\core\\window.py\u001b[0m in \u001b[0;36mf\u001b[1;34m(arg, window, min_periods, closed)\u001b[0m\n\u001b[0;32m   1007\u001b[0m             return libwindow.roll_generic(\n\u001b[0;32m   1008\u001b[0m                 \u001b[0marg\u001b[0m\u001b[1;33m,\u001b[0m \u001b[0mwindow\u001b[0m\u001b[1;33m,\u001b[0m \u001b[0mminp\u001b[0m\u001b[1;33m,\u001b[0m \u001b[0mindexi\u001b[0m\u001b[1;33m,\u001b[0m\u001b[1;33m\u001b[0m\u001b[1;33m\u001b[0m\u001b[0m\n\u001b[1;32m-> 1009\u001b[1;33m                 closed, offset, func, raw, args, kwargs)\n\u001b[0m\u001b[0;32m   1010\u001b[0m \u001b[1;33m\u001b[0m\u001b[0m\n\u001b[0;32m   1011\u001b[0m         return self._apply(f, func, args=args, kwargs=kwargs,\n",
      "\u001b[1;32mpandas\\_libs\\window.pyx\u001b[0m in \u001b[0;36mpandas._libs.window.roll_generic\u001b[1;34m()\u001b[0m\n",
      "\u001b[1;32m~\\Anaconda3\\lib\\site-packages\\tqdm\\_tqdm.py\u001b[0m in \u001b[0;36mwrapper\u001b[1;34m(*args, **kwargs)\u001b[0m\n\u001b[0;32m    671\u001b[0m                     \u001b[1;31m# take a fast or slow code path; so stop when t.total==t.n\u001b[0m\u001b[1;33m\u001b[0m\u001b[1;33m\u001b[0m\u001b[1;33m\u001b[0m\u001b[0m\n\u001b[0;32m    672\u001b[0m                     \u001b[0mt\u001b[0m\u001b[1;33m.\u001b[0m\u001b[0mupdate\u001b[0m\u001b[1;33m(\u001b[0m\u001b[0mn\u001b[0m\u001b[1;33m=\u001b[0m\u001b[1;36m1\u001b[0m \u001b[1;32mif\u001b[0m \u001b[1;32mnot\u001b[0m \u001b[0mt\u001b[0m\u001b[1;33m.\u001b[0m\u001b[0mtotal\u001b[0m \u001b[1;32mor\u001b[0m \u001b[0mt\u001b[0m\u001b[1;33m.\u001b[0m\u001b[0mn\u001b[0m \u001b[1;33m<\u001b[0m \u001b[0mt\u001b[0m\u001b[1;33m.\u001b[0m\u001b[0mtotal\u001b[0m \u001b[1;32melse\u001b[0m \u001b[1;36m0\u001b[0m\u001b[1;33m)\u001b[0m\u001b[1;33m\u001b[0m\u001b[1;33m\u001b[0m\u001b[0m\n\u001b[1;32m--> 673\u001b[1;33m                     \u001b[1;32mreturn\u001b[0m \u001b[0mfunc\u001b[0m\u001b[1;33m(\u001b[0m\u001b[1;33m*\u001b[0m\u001b[0margs\u001b[0m\u001b[1;33m,\u001b[0m \u001b[1;33m**\u001b[0m\u001b[0mkwargs\u001b[0m\u001b[1;33m)\u001b[0m\u001b[1;33m\u001b[0m\u001b[1;33m\u001b[0m\u001b[0m\n\u001b[0m\u001b[0;32m    674\u001b[0m \u001b[1;33m\u001b[0m\u001b[0m\n\u001b[0;32m    675\u001b[0m                 \u001b[1;31m# Apply the provided function (in **kwargs)\u001b[0m\u001b[1;33m\u001b[0m\u001b[1;33m\u001b[0m\u001b[1;33m\u001b[0m\u001b[0m\n",
      "\u001b[1;32m<ipython-input-61-aeb83279c6c0>\u001b[0m in \u001b[0;36mget_freq\u001b[1;34m(data)\u001b[0m\n\u001b[0;32m      6\u001b[0m     \u001b[1;32mdef\u001b[0m \u001b[0mget_freq\u001b[0m\u001b[1;33m(\u001b[0m\u001b[0mdata\u001b[0m\u001b[1;33m)\u001b[0m\u001b[1;33m:\u001b[0m\u001b[1;33m\u001b[0m\u001b[1;33m\u001b[0m\u001b[0m\n\u001b[0;32m      7\u001b[0m         \u001b[0mdata\u001b[0m \u001b[1;33m=\u001b[0m \u001b[0mpd\u001b[0m\u001b[1;33m.\u001b[0m\u001b[0mSeries\u001b[0m\u001b[1;33m(\u001b[0m\u001b[0mdata\u001b[0m\u001b[1;33m)\u001b[0m\u001b[1;33m\u001b[0m\u001b[1;33m\u001b[0m\u001b[0m\n\u001b[1;32m----> 8\u001b[1;33m         \u001b[1;32mreturn\u001b[0m \u001b[0mdata\u001b[0m\u001b[1;33m.\u001b[0m\u001b[0mvalue_counts\u001b[0m\u001b[1;33m(\u001b[0m\u001b[1;33m)\u001b[0m\u001b[1;33m[\u001b[0m\u001b[0mdata\u001b[0m\u001b[1;33m.\u001b[0m\u001b[0mvalues\u001b[0m\u001b[1;33m[\u001b[0m\u001b[1;33m-\u001b[0m\u001b[1;36m1\u001b[0m\u001b[1;33m]\u001b[0m\u001b[1;33m]\u001b[0m\u001b[1;33m\u001b[0m\u001b[1;33m\u001b[0m\u001b[0m\n\u001b[0m\u001b[0;32m      9\u001b[0m \u001b[1;33m\u001b[0m\u001b[0m\n\u001b[0;32m     10\u001b[0m     \u001b[0mdf\u001b[0m\u001b[1;33m[\u001b[0m\u001b[1;34mf'can_id_freq_window_{window}'\u001b[0m\u001b[1;33m]\u001b[0m \u001b[1;33m=\u001b[0m \u001b[0mdf\u001b[0m\u001b[1;33m.\u001b[0m\u001b[0mrolling\u001b[0m\u001b[1;33m(\u001b[0m\u001b[0mwindow\u001b[0m\u001b[1;33m,\u001b[0m \u001b[0mmin_periods\u001b[0m\u001b[1;33m=\u001b[0m\u001b[1;36m1\u001b[0m\u001b[1;33m)\u001b[0m\u001b[1;33m.\u001b[0m\u001b[0mCANID\u001b[0m\u001b[1;33m.\u001b[0m\u001b[0mprogress_apply\u001b[0m\u001b[1;33m(\u001b[0m\u001b[0mget_freq\u001b[0m\u001b[1;33m)\u001b[0m\u001b[1;33m\u001b[0m\u001b[1;33m\u001b[0m\u001b[0m\n",
      "\u001b[1;32m~\\Anaconda3\\lib\\site-packages\\pandas\\core\\base.py\u001b[0m in \u001b[0;36mvalue_counts\u001b[1;34m(self, normalize, sort, ascending, bins, dropna)\u001b[0m\n\u001b[0;32m   1301\u001b[0m         \u001b[1;32mfrom\u001b[0m \u001b[0mpandas\u001b[0m\u001b[1;33m.\u001b[0m\u001b[0mcore\u001b[0m\u001b[1;33m.\u001b[0m\u001b[0malgorithms\u001b[0m \u001b[1;32mimport\u001b[0m \u001b[0mvalue_counts\u001b[0m\u001b[1;33m\u001b[0m\u001b[1;33m\u001b[0m\u001b[0m\n\u001b[0;32m   1302\u001b[0m         result = value_counts(self, sort=sort, ascending=ascending,\n\u001b[1;32m-> 1303\u001b[1;33m                               normalize=normalize, bins=bins, dropna=dropna)\n\u001b[0m\u001b[0;32m   1304\u001b[0m         \u001b[1;32mreturn\u001b[0m \u001b[0mresult\u001b[0m\u001b[1;33m\u001b[0m\u001b[1;33m\u001b[0m\u001b[0m\n\u001b[0;32m   1305\u001b[0m \u001b[1;33m\u001b[0m\u001b[0m\n",
      "\u001b[1;32m~\\Anaconda3\\lib\\site-packages\\pandas\\core\\algorithms.py\u001b[0m in \u001b[0;36mvalue_counts\u001b[1;34m(values, sort, ascending, normalize, bins, dropna)\u001b[0m\n\u001b[0;32m    697\u001b[0m \u001b[1;33m\u001b[0m\u001b[0m\n\u001b[0;32m    698\u001b[0m         \u001b[1;32melse\u001b[0m\u001b[1;33m:\u001b[0m\u001b[1;33m\u001b[0m\u001b[1;33m\u001b[0m\u001b[0m\n\u001b[1;32m--> 699\u001b[1;33m             \u001b[0mkeys\u001b[0m\u001b[1;33m,\u001b[0m \u001b[0mcounts\u001b[0m \u001b[1;33m=\u001b[0m \u001b[0m_value_counts_arraylike\u001b[0m\u001b[1;33m(\u001b[0m\u001b[0mvalues\u001b[0m\u001b[1;33m,\u001b[0m \u001b[0mdropna\u001b[0m\u001b[1;33m)\u001b[0m\u001b[1;33m\u001b[0m\u001b[1;33m\u001b[0m\u001b[0m\n\u001b[0m\u001b[0;32m    700\u001b[0m \u001b[1;33m\u001b[0m\u001b[0m\n\u001b[0;32m    701\u001b[0m             \u001b[1;32mif\u001b[0m \u001b[1;32mnot\u001b[0m \u001b[0misinstance\u001b[0m\u001b[1;33m(\u001b[0m\u001b[0mkeys\u001b[0m\u001b[1;33m,\u001b[0m \u001b[0mIndex\u001b[0m\u001b[1;33m)\u001b[0m\u001b[1;33m:\u001b[0m\u001b[1;33m\u001b[0m\u001b[1;33m\u001b[0m\u001b[0m\n",
      "\u001b[1;32m~\\Anaconda3\\lib\\site-packages\\pandas\\core\\algorithms.py\u001b[0m in \u001b[0;36m_value_counts_arraylike\u001b[1;34m(values, dropna)\u001b[0m\n\u001b[0;32m    742\u001b[0m         \u001b[1;31m# TODO: handle uint8\u001b[0m\u001b[1;33m\u001b[0m\u001b[1;33m\u001b[0m\u001b[1;33m\u001b[0m\u001b[0m\n\u001b[0;32m    743\u001b[0m         \u001b[0mf\u001b[0m \u001b[1;33m=\u001b[0m \u001b[0mgetattr\u001b[0m\u001b[1;33m(\u001b[0m\u001b[0mhtable\u001b[0m\u001b[1;33m,\u001b[0m \u001b[1;34m\"value_count_{dtype}\"\u001b[0m\u001b[1;33m.\u001b[0m\u001b[0mformat\u001b[0m\u001b[1;33m(\u001b[0m\u001b[0mdtype\u001b[0m\u001b[1;33m=\u001b[0m\u001b[0mndtype\u001b[0m\u001b[1;33m)\u001b[0m\u001b[1;33m)\u001b[0m\u001b[1;33m\u001b[0m\u001b[1;33m\u001b[0m\u001b[0m\n\u001b[1;32m--> 744\u001b[1;33m         \u001b[0mkeys\u001b[0m\u001b[1;33m,\u001b[0m \u001b[0mcounts\u001b[0m \u001b[1;33m=\u001b[0m \u001b[0mf\u001b[0m\u001b[1;33m(\u001b[0m\u001b[0mvalues\u001b[0m\u001b[1;33m,\u001b[0m \u001b[0mdropna\u001b[0m\u001b[1;33m)\u001b[0m\u001b[1;33m\u001b[0m\u001b[1;33m\u001b[0m\u001b[0m\n\u001b[0m\u001b[0;32m    745\u001b[0m \u001b[1;33m\u001b[0m\u001b[0m\n\u001b[0;32m    746\u001b[0m         \u001b[0mmask\u001b[0m \u001b[1;33m=\u001b[0m \u001b[0misna\u001b[0m\u001b[1;33m(\u001b[0m\u001b[0mvalues\u001b[0m\u001b[1;33m)\u001b[0m\u001b[1;33m\u001b[0m\u001b[1;33m\u001b[0m\u001b[0m\n",
      "\u001b[1;32mpandas\\_libs\\hashtable_func_helper.pxi\u001b[0m in \u001b[0;36mpandas._libs.hashtable.value_count_float64\u001b[1;34m()\u001b[0m\n",
      "\u001b[1;32mpandas\\_libs\\hashtable_func_helper.pxi\u001b[0m in \u001b[0;36mpandas._libs.hashtable.value_count_float64\u001b[1;34m()\u001b[0m\n",
      "\u001b[1;32m~\\Anaconda3\\lib\\site-packages\\numpy\\core\\numeric.py\u001b[0m in \u001b[0;36masarray\u001b[1;34m(a, dtype, order)\u001b[0m\n\u001b[0;32m    467\u001b[0m \u001b[1;33m\u001b[0m\u001b[0m\n\u001b[0;32m    468\u001b[0m \u001b[1;33m\u001b[0m\u001b[0m\n\u001b[1;32m--> 469\u001b[1;33m \u001b[1;33m@\u001b[0m\u001b[0mset_module\u001b[0m\u001b[1;33m(\u001b[0m\u001b[1;34m'numpy'\u001b[0m\u001b[1;33m)\u001b[0m\u001b[1;33m\u001b[0m\u001b[1;33m\u001b[0m\u001b[0m\n\u001b[0m\u001b[0;32m    470\u001b[0m \u001b[1;32mdef\u001b[0m \u001b[0masarray\u001b[0m\u001b[1;33m(\u001b[0m\u001b[0ma\u001b[0m\u001b[1;33m,\u001b[0m \u001b[0mdtype\u001b[0m\u001b[1;33m=\u001b[0m\u001b[1;32mNone\u001b[0m\u001b[1;33m,\u001b[0m \u001b[0morder\u001b[0m\u001b[1;33m=\u001b[0m\u001b[1;32mNone\u001b[0m\u001b[1;33m)\u001b[0m\u001b[1;33m:\u001b[0m\u001b[1;33m\u001b[0m\u001b[1;33m\u001b[0m\u001b[0m\n\u001b[0;32m    471\u001b[0m     \"\"\"Convert the input to an array.\n",
      "\u001b[1;31mKeyboardInterrupt\u001b[0m: "
     ]
    }
   ],
   "source": [
    "TRAIN['Timestap'] = pd.to_datetime(TRAIN['Timestap'], unit='s')\n",
    "TEST['Timestap'] = pd.to_datetime(TEST['Timestap'], unit='s')\n",
    "\n",
    "TRAIN['minute'] = TRAIN['Timestap'].dt.minute\n",
    "TRAIN['second'] = TRAIN['Timestap'].dt.second\n",
    "\n",
    "TEST['minute'] = TEST['Timestap'].dt.minute\n",
    "TEST['second'] = TEST['Timestap'].dt.second\n",
    "\n",
    "TRAIN['DataField_len'] = TRAIN['DataField'].astype(str).apply(lambda x: len(x.split(' ')))\n",
    "TEST['DataField_len'] = TEST['DataField'].astype(str).apply(lambda x: len(x.split(' ')))\n",
    "\n",
    "TRAIN_df = pd.DataFrame()\n",
    "TEST_df = pd.DataFrame()\n",
    "\n",
    "for num in tqdm_notebook(TRAIN['DataField_len'].unique()):\n",
    "    TRAIN__df_field = TRAIN[TRAIN['DataField_len']==num].reset_index(drop=True)\n",
    "    TEST__df_field = TEST[TEST['DataField_len']==num].reset_index(drop=True)\n",
    "    for num1 in np.arange(num):\n",
    "        TRAIN__df_field['DataField_{}'.format(num1)] = TRAIN__df_field['DataField'].astype(str).apply(lambda x: x.split(' ')[num1])\n",
    "        TEST__df_field['DataField_{}'.format(num1)] = TEST__df_field['DataField'].astype(str).apply(lambda x: x.split(' ')[num1])\n",
    "    TRAIN_df = pd.concat([TRAIN_df, TRAIN__df_field], axis=0).reset_index(drop=True)\n",
    "    TEST_df = pd.concat([TEST_df, TEST__df_field], axis=0).reset_index(drop=True)\n",
    "    \n",
    "from sklearn.preprocessing import LabelEncoder\n",
    "columns = [c for c in TEST_df.columns if c not in ['Number', 'Class','RULE1','RULE2','RULE']]\n",
    "for col in tqdm_notebook(columns):\n",
    "    if TRAIN_df[col].dtype == 'object':\n",
    "        le = LabelEncoder()\n",
    "        le.fit(list(TRAIN_df[col].astype(str).values) + list(TEST_df[col].astype(str).values))\n",
    "        TRAIN_df[col] = le.transform(list(TRAIN_df[col].astype(str).values))\n",
    "        TEST_df[col] = le.transform(list(TEST_df[col].astype(str).values))   \n",
    "        \n",
    "TRAIN_df = can_id_freq_window(TRAIN_df)\n",
    "TEST_df = can_id_freq_window(TEST_df)"
   ]
  },
  {
   "cell_type": "code",
   "execution_count": 71,
   "metadata": {},
   "outputs": [],
   "source": [
    "import matplotlib.font_manager as fm\n",
    "fontpath = 'C:/Users/choco/Anaconda3/lib/site-packages/matplotlib/mpl-data/fonts/ttf/NanumBarunGothic.ttf'\n",
    "font = fm.FontProperties(fname=fontpath).get_name()"
   ]
  },
  {
   "cell_type": "code",
   "execution_count": 74,
   "metadata": {},
   "outputs": [
    {
     "data": {
      "image/png": "[encoded data removed]",
      "text/plain": [
       "<Figure size 1000x600 with 1 Axes>"
      ]
     },
     "metadata": {
      "needs_background": "light"
     },
     "output_type": "display_data"
    },
    {
     "data": {
      "text/plain": [
       "<ggplot: (-9223371927041987854)>"
      ]
     },
     "execution_count": 74,
     "metadata": {},
     "output_type": "execute_result"
    }
   ],
   "source": [
    "agg = TRAIN.groupby(['CANID'])['Class'].agg({'nunique'}).reset_index().rename(columns = {'nunique' : '클래스의 갯수'})\n",
    "agg1 = TRAIN.groupby(['CANID'])['DataField'].agg({'nunique'}).reset_index().rename(columns = {'nunique' : '데이터필드 종류의 수'})\n",
    "agg = pd.merge(agg, agg1, how='left')\n",
    "agg['클래스의 갯수'] = agg['클래스의 갯수'].astype(str)\n",
    "agg['데이터필드 종류의 수'] = agg['데이터필드 종류의 수'].apply(lambda x: '1~9' if x < 10\n",
    "                                                              else ('10~99' if ((x < 100)&(x>=10))\n",
    "                                                                else ('100~999' if ((x<1000)&(x>=100)) else '1000~')))\n",
    "\n",
    "(ggplot(agg)\n",
    " + geom_bar(aes(x='클래스의 갯수',fill = '데이터필드 종류의 수'),  position = \"stack\") \n",
    " + scale_fill_brewer(palette = \"Reds\")\n",
    " + ggtitle(\"CANID에 따른 클래스의 갯수\") \n",
    " + theme_minimal() + theme(text=element_text(family=font), figure_size=(10, 6)))"
   ]
  },
  {
   "cell_type": "code",
   "execution_count": null,
   "metadata": {},
   "outputs": [],
   "source": [
    "agg = TRAIN.groupby(['DataField'])['Class'].agg({'nunique'}).reset_index().rename(columns = {'nunique' : '클래스의 갯수'})\n",
    "agg1 = TRAIN.groupby(['DataField'])['Class'].agg({'count'}).reset_index().rename(columns = {'count' : '데이터필드의 갯수'})\n",
    "agg = pd.merge(agg, agg1, how='left')\n",
    "agg['클래스의 갯수'] = agg['클래스의 갯수'].astype(str)\n",
    "agg['데이터필드의 갯수'] = agg['데이터필드의 갯수'].apply(lambda x: '1~9' if x < 10\n",
    "                                                              else ('10~99' if ((x < 100)&(x>=10))\n",
    "                                                                else ('100~999' if ((x<1000)&(x>=100)) else '1000~')))\n",
    "\n",
    "(ggplot(agg)\n",
    " + geom_bar(aes(x='클래스의 갯수',fill = '데이터필드의 갯수'),  position = \"stack\") \n",
    " + scale_fill_brewer(palette = \"Reds\")\n",
    " + ggtitle(\"DataField에 따른 클래스의 갯수\") \n",
    " + theme_minimal() + theme(text=element_text(family=font), figure_size=(10, 6)))"
   ]
  },
  {
   "cell_type": "code",
   "execution_count": null,
   "metadata": {},
   "outputs": [],
   "source": [
    "agg['클래스의 갯수'].value_counts()"
   ]
  },
  {
   "cell_type": "code",
   "execution_count": null,
   "metadata": {},
   "outputs": [],
   "source": [
    "class_binary = {'R':0, 'T':1}\n",
    "TRAIN_df['Class'] = TRAIN_df['Class'].map(class_binary)\n",
    "TRAIN_df['Number'] = TRAIN_df.index"
   ]
  },
  {
   "cell_type": "code",
   "execution_count": null,
   "metadata": {},
   "outputs": [],
   "source": [
    "features = [c for c in TRAIN_df.columns if c not in ['Class', 'Number', 'Timestap','RULE1','RULE2','RULE']]\n",
    "features_columns = features\n",
    "categorical_features = ['CANID','DataField', 'DLC', 'DataField_0','DataField_1','DataField_2','DataField_3',\n",
    "                       'DataField_4','DataField_5','DataField_7','minute','second']"
   ]
  },
  {
   "cell_type": "code",
   "execution_count": null,
   "metadata": {},
   "outputs": [],
   "source": [
    "del TRAIN_df['Timestap'] ; # del TRAIN_df['DataField']\n",
    "del test_df['Timestap'] ; # del test_df['DataField']"
   ]
  },
  {
   "cell_type": "code",
   "execution_count": null,
   "metadata": {},
   "outputs": [],
   "source": [
    "import gc \n",
    "TRAIN_df, TEST_df = transform_transaction_catcols(TRAIN_df, TEST_df)"
   ]
  },
  {
   "cell_type": "code",
   "execution_count": null,
   "metadata": {},
   "outputs": [],
   "source": [
    "for col in tqdm_notebook( features ):\n",
    "    if TRAIN_df[col].dtype=='O':\n",
    "        print(col)\n",
    "        TRAIN_df[col] = TRAIN_df[col].fillna('unseen_before_label')\n",
    "        TEST_df[col]  = TEST_df[col].fillna('unseen_before_label')\n",
    "        \n",
    "        TRAIN_df[col] = TRAIN_df[col].astype(str)\n",
    "        TEST_df[col] = TEST_df[col].astype(str)\n",
    "        \n",
    "        le = LabelEncoder()\n",
    "        le.fit(list(TRAIN_df[col])+list(TEST_df[col]))\n",
    "        TRAIN_df[col] = le.transform(TRAIN_df[col])\n",
    "        TEST_df[col]  = le.transform(TEST_df[col])\n",
    "    \n",
    "    elif col in categorical_features:\n",
    "        TRAIN_df[col] = TRAIN_df[col].astype(float).fillna(-999)\n",
    "        TEST_df[col]  = TEST_df[col].astype(float).fillna(-999)\n",
    "        \n",
    "        le = LabelEncoder()\n",
    "        le.fit(list(TRAIN_df[col])+list(TEST_df[col]))\n",
    "        TRAIN_df[col] = le.transform(TRAIN_df[col])\n",
    "        TEST_df[col]  = le.transform(TEST_df[col])"
   ]
  },
  {
   "cell_type": "markdown",
   "metadata": {},
   "source": [
    "### Tree Based Model"
   ]
  },
  {
   "cell_type": "code",
   "execution_count": null,
   "metadata": {},
   "outputs": [],
   "source": [
    "from sklearn.preprocessing import LabelEncoder\n",
    "from catboost import CatBoostClassifier\n",
    "import random \n",
    "import os \n",
    "def seed_everything(seed=0):\n",
    "    random.seed(seed)\n",
    "    os.environ['PYTHONHASHSEED'] = str(seed)\n",
    "    np.random.seed(seed)"
   ]
  },
  {
   "cell_type": "code",
   "execution_count": null,
   "metadata": {},
   "outputs": [],
   "source": [
    "SEED = 42\n",
    "seed_everything(SEED)\n",
    "TARGET = 'Class'"
   ]
  },
  {
   "cell_type": "code",
   "execution_count": null,
   "metadata": {},
   "outputs": [],
   "source": [
    "########################### Model params\n",
    "cat_params = {\n",
    "                'n_estimators':5000,\n",
    "                'learning_rate': 0.07,\n",
    "                'eval_metric':'F1',\n",
    "                'loss_function':'Logloss',\n",
    "                'random_seed':SEED,\n",
    "                'metric_period':500,\n",
    "                'od_wait':500,\n",
    "                'task_type':'GPU',\n",
    "                'depth': 8,\n",
    "                #'colsample_bylevel':0.7,\n",
    "                } "
   ]
  },
  {
   "cell_type": "code",
   "execution_count": null,
   "metadata": {},
   "outputs": [],
   "source": [
    "from sklearn.model_selection import KFold, StratifiedKFold, TimeSeriesSplit, GroupKFold\n",
    "import gc\n",
    "\n",
    "NFOLDS = 5\n",
    "folds = GroupKFold(n_splits=NFOLDS)\n",
    "\n",
    "TEST_df[TARGET] = 0.5 \n",
    "    \n",
    "X ,y = TRAIN_df[features_columns], TRAIN_df[TARGET]    \n",
    "P, p_y = TEST_df[features_columns], TEST_df[TARGET]  \n",
    "    \n",
    "split_groups = TRAIN_df['minute']\n",
    "\n",
    "oofs = TRAIN_df[['Number',TARGET]]\n",
    "preds = TEST_df[['Number',TARGET]] \n",
    "preds['Class'] = 0\n",
    "gc.collect()\n",
    "    \n",
    "oof = np.zeros(len(TRAIN_df))\n",
    "predictions = np.zeros(len(TEST_df))\n",
    "\n",
    "for fold_, (trn_idx, val_idx) in enumerate(folds.split(X, y, groups=split_groups)):\n",
    "    print('Fold:',fold_)\n",
    "        \n",
    "    estimator = CatBoostClassifier(**cat_params)        \n",
    "    estimator.fit(\n",
    "        X.iloc[trn_idx,:],y[trn_idx],\n",
    "        eval_set=(X.iloc[val_idx,:], y[val_idx]),\n",
    "        cat_features=categorical_features,\n",
    "        use_best_model=True,\n",
    "        verbose=True)\n",
    "\n",
    "    oof_preds = estimator.predict_proba(X.iloc[val_idx,:])[:,1]\n",
    "    oof[val_idx] = (oof_preds - oof_preds.min())/(oof_preds.max() - oof_preds.min())\n",
    "    preds['Class'] += estimator.predict_proba(P)[:,1]/NFOLDS\n",
    "        \n",
    "    gc.collect()"
   ]
  },
  {
   "cell_type": "code",
   "execution_count": null,
   "metadata": {},
   "outputs": [],
   "source": [
    "feature_score = pd.DataFrame()\n",
    "feature_score['feature'] = features\n",
    "feature_score['score'] = estimator.get_feature_importance()\n",
    "feature_score = feature_score.sort_values(by='score', ascending=False)\n",
    "feature_score"
   ]
  },
  {
   "cell_type": "code",
   "execution_count": null,
   "metadata": {},
   "outputs": [],
   "source": [
    "from sklearn.metrics import f1_score\n",
    "\n",
    "best_threshold_dict = {}\n",
    "for threshold in tqdm_notebook(np.linspace(0,1, 100)):\n",
    "    temp_f1_score = f1_score(y, [ 1 if x >=threshold else 0 for x in oof])\n",
    "    best_threshold_dict[threshold] = temp_f1_score"
   ]
  },
  {
   "cell_type": "code",
   "execution_count": null,
   "metadata": {},
   "outputs": [],
   "source": [
    "best_threshold_dict"
   ]
  },
  {
   "cell_type": "code",
   "execution_count": null,
   "metadata": {},
   "outputs": [],
   "source": [
    "max(best_threshold_dict.values())"
   ]
  },
  {
   "cell_type": "code",
   "execution_count": null,
   "metadata": {},
   "outputs": [],
   "source": [
    "pd.DataFrame(oof).hist()"
   ]
  },
  {
   "cell_type": "code",
   "execution_count": null,
   "metadata": {},
   "outputs": [],
   "source": [
    "preds['Class'] = preds['Class'].apply(lambda x: 'R' if x <= 0.7676767676767677 else 'T')"
   ]
  },
  {
   "cell_type": "code",
   "execution_count": null,
   "metadata": {},
   "outputs": [],
   "source": [
    "preds = preds.sort_values(by='Number')\n",
    "TEST['RULE3'] = preds['Class']"
   ]
  },
  {
   "cell_type": "code",
   "execution_count": null,
   "metadata": {},
   "outputs": [],
   "source": [
    "TEST['RULE'] = TEST['RULE'].fillna(TEST['RULE3'])"
   ]
  }
 ],
 "metadata": {
  "kernelspec": {
   "display_name": "Python 3",
   "language": "python",
   "name": "python3"
  },
  "language_info": {
   "codemirror_mode": {
    "name": "ipython",
    "version": 3
   },
   "file_extension": ".py",
   "mimetype": "text/x-python",
   "name": "python",
   "nbconvert_exporter": "python",
   "pygments_lexer": "ipython3",
   "version": "3.7.3"
  }
 },
 "nbformat": 4,
 "nbformat_minor": 2
}
