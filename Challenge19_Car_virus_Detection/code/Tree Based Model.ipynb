{
 "cells": [
  {
   "cell_type": "code",
   "execution_count": 60,
   "metadata": {},
   "outputs": [],
   "source": [
    "import pandas as pd\n",
    "import numpy as np\n",
    "from plotnine import *\n",
    "import os\n",
    "import warnings\n",
    "from tqdm import tqdm_notebook\n",
    "import gc"
   ]
  },
  {
   "cell_type": "code",
   "execution_count": 61,
   "metadata": {},
   "outputs": [],
   "source": [
    "def transform_transaction_catcols(df1, df2):\n",
    "    for cat_col in tqdm_notebook(categorical_features): \n",
    "        # Get the indices for NaN values\n",
    "        trn_null_ind = [ind for ind, val in enumerate(df1[cat_col].isnull().values) if val == True]\n",
    "        ts_null_ind = [ind for ind, val in enumerate(df2[cat_col].isnull().values) if val == True]\n",
    "        \n",
    "        uniq_train_cat_val , uniq_test_cat_val = set(df1[cat_col].dropna() ), set(df2[cat_col].dropna() )\n",
    "        common_cat_val = uniq_train_cat_val.intersection(uniq_test_cat_val)\n",
    "        df1.loc[ ~df1[cat_col].isin( common_cat_val), cat_col ] = -99999\n",
    "        df2.loc[ ~df2[cat_col].isin( common_cat_val), cat_col ] = -99999\n",
    "        \n",
    "        # Replace the value for orignal NaN values\n",
    "        df1.loc[df1.index.isin(trn_null_ind), cat_col] = np.NaN\n",
    "        df2.loc[df2.index.isin(ts_null_ind), cat_col] = np.NaN\n",
    "        \n",
    "    del uniq_train_cat_val, uniq_test_cat_val, common_cat_val; gc.collect()\n",
    "\n",
    "    return df1, df2"
   ]
  },
  {
   "cell_type": "code",
   "execution_count": 62,
   "metadata": {},
   "outputs": [
    {
     "name": "stdout",
     "output_type": "stream",
     "text": [
      "['Challenge19car!', 'CHEVORLET_SPARK_Attack_free_TRAIN_Release.csv', 'CHEVORLET_SPARK_Flooding_TRAIN_Release.csv', 'CHEVORLET_SPARK_Fuzzy_TRAIN_Release.csv', 'CHEVORLET_SPARK_Malfunction_TRAIN_Release.csv', 'File_1.csv', 'File_2.csv', 'File_3.csv', 'File_4.csv', 'File_7.csv', 'File_8.csv', 'File_9.csv', 'HYUNDAI_SONATA_Attack_free_TRAIN_Release.csv', 'HYUNDAI_SONATA_Flooding_TRAIN_Release.csv', 'HYUNDAI_SONATA_Fuzzy_TRAIN_Release.csv', 'HYUNDAI_SONATA_Malfunction_TRAIN_Release.csv', 'KIA_SOUL_Attack_free_TRAIN_Release.csv', 'KIA_SOUL_Flooding_TRAIN_Release.csv', 'KIA_SOUL_Fuzzy_TRAIN_Release.csv', 'KIA_SOUL_Malfunction_TRAIN_Release.csv', '자동차용 침입 탐지 트랙 - 제출용 데이터셋.zip', '자동차용 침입 탐지 트랙 - 학습용 데이터셋.zip']\n"
     ]
    }
   ],
   "source": [
    "path = 'C:/Users/User/Documents/R_D Challenge2019/Challenge19_Car_virus_Detection/input/'\n",
    "print(os.listdir(path))"
   ]
  },
  {
   "cell_type": "code",
   "execution_count": 63,
   "metadata": {},
   "outputs": [],
   "source": [
    "HYUNDAI_SONATA_Attack = pd.read_csv(path + 'HYUNDAI_SONATA_Attack_free_TRAIN_Release.csv', header=None)\n",
    "HYUNDAI_SONATA_Flooding = pd.read_csv(path + 'HYUNDAI_SONATA_Flooding_TRAIN_Release.csv', header=None)\n",
    "HYUNDAI_SONATA_Fuzzy = pd.read_csv(path + 'HYUNDAI_SONATA_Fuzzy_TRAIN_Release.csv', header=None)\n",
    "HYUNDAI_SONATA_Malfunction = pd.read_csv(path + 'HYUNDAI_SONATA_Malfunction_TRAIN_Release.csv', header=None)\n",
    "\n",
    "CHEVORET_SPARK_Attack = pd.read_csv(path + 'CHEVORLET_SPARK_Attack_free_TRAIN_Release.csv', header=None)\n",
    "CHEVORET_SPARK_Flooding = pd.read_csv(path + 'CHEVORLET_SPARK_Flooding_TRAIN_Release.csv', header=None)\n",
    "CHEVORET_SPARK_Fuzzy = pd.read_csv(path + 'CHEVORLET_SPARK_Fuzzy_TRAIN_Release.csv', header=None)\n",
    "CHEVORLET_SPARK_Malfunction = pd.read_csv(path + 'CHEVORLET_SPARK_Malfunction_TRAIN_Release.csv', header=None)\n",
    "\n",
    "KIA_SOUL_Attack = pd.read_csv(path + 'KIA_SOUL_Attack_free_TRAIN_Release.csv', header=None)\n",
    "KIA_SOUL_Flooding = pd.read_csv(path + 'KIA_SOUL_Flooding_TRAIN_Release.csv', header=None)\n",
    "KIA_SOUL_Fuzzy = pd.read_csv(path + 'KIA_SOUL_Fuzzy_TRAIN_Release.csv', header=None)\n",
    "KIA_SOUL_Malfunction = pd.read_csv(path + 'KIA_SOUL_Malfunction_TRAIN_Release.csv', header=None)"
   ]
  },
  {
   "cell_type": "code",
   "execution_count": 64,
   "metadata": {},
   "outputs": [],
   "source": [
    "for a in [HYUNDAI_SONATA_Attack, HYUNDAI_SONATA_Flooding, HYUNDAI_SONATA_Fuzzy, HYUNDAI_SONATA_Malfunction]:\n",
    "    a.columns = ['Timestap', 'CANID', 'DLC', 'DataField', 'Class']\n",
    "    \n",
    "for a in [CHEVORET_SPARK_Attack, CHEVORET_SPARK_Flooding, CHEVORET_SPARK_Fuzzy, CHEVORLET_SPARK_Malfunction]:\n",
    "    a.columns = ['Timestap', 'CANID', 'DLC', 'DataField', 'Class']\n",
    "    \n",
    "for a in [KIA_SOUL_Attack, KIA_SOUL_Flooding, KIA_SOUL_Fuzzy, KIA_SOUL_Malfunction]:\n",
    "    a.columns = ['Timestap', 'CANID', 'DLC', 'DataField', 'Class']"
   ]
  },
  {
   "cell_type": "code",
   "execution_count": 65,
   "metadata": {},
   "outputs": [],
   "source": [
    "train = pd.DataFrame()\n",
    "for df in [HYUNDAI_SONATA_Attack, HYUNDAI_SONATA_Flooding, HYUNDAI_SONATA_Fuzzy, HYUNDAI_SONATA_Malfunction]:\n",
    "    train = pd.concat([train, df], axis=0)\n",
    "    \n",
    "for df in [CHEVORET_SPARK_Attack, CHEVORET_SPARK_Flooding, CHEVORET_SPARK_Fuzzy, CHEVORLET_SPARK_Malfunction]:\n",
    "    train = pd.concat([train, df], axis=0)\n",
    "    \n",
    "for df in [KIA_SOUL_Attack, KIA_SOUL_Flooding, KIA_SOUL_Fuzzy, KIA_SOUL_Malfunction]:\n",
    "    train = pd.concat([train, df], axis=0)"
   ]
  },
  {
   "cell_type": "code",
   "execution_count": 66,
   "metadata": {},
   "outputs": [],
   "source": [
    "File1 = pd.read_csv(path + 'File_1.csv', header=None)\n",
    "File2 = pd.read_csv(path + 'File_2.csv', header=None)\n",
    "File3 = pd.read_csv(path + 'File_3.csv', header=None)\n",
    "File4 = pd.read_csv(path + 'File_4.csv', header=None)\n",
    "File7 = pd.read_csv(path + 'File_7.csv', header=None)\n",
    "File8 = pd.read_csv(path + 'File_8.csv', header=None)\n",
    "File9 = pd.read_csv(path + 'File_9.csv', header=None)"
   ]
  },
  {
   "cell_type": "code",
   "execution_count": 67,
   "metadata": {},
   "outputs": [],
   "source": [
    "test = pd.DataFrame()\n",
    "for a in [File1, File2, File3, File4, File7, File8, File9]:\n",
    "    a.columns = ['Number', 'Timestap', 'CANID', 'DLC', 'DataField']\n",
    "\n",
    "for df in [File1, File2, File3, File4, File7, File8, File9]:\n",
    "    test = pd.concat([test, df], axis=0)"
   ]
  },
  {
   "cell_type": "code",
   "execution_count": 68,
   "metadata": {},
   "outputs": [],
   "source": [
    "test = test.reset_index(drop=True)\n",
    "test['Number'] = test.index + 1"
   ]
  },
  {
   "cell_type": "code",
   "execution_count": 69,
   "metadata": {},
   "outputs": [
    {
     "name": "stdout",
     "output_type": "stream",
     "text": [
      "(1271623, 5) (370896, 5)\n"
     ]
    }
   ],
   "source": [
    "print(train.shape, test.shape)"
   ]
  },
  {
   "cell_type": "markdown",
   "metadata": {},
   "source": [
    "### Feature Engineering"
   ]
  },
  {
   "cell_type": "code",
   "execution_count": 70,
   "metadata": {},
   "outputs": [],
   "source": [
    "train['Timestap'] = pd.to_datetime(train['Timestap'], unit='s')\n",
    "test['Timestap'] = pd.to_datetime(test['Timestap'], unit='s')"
   ]
  },
  {
   "cell_type": "code",
   "execution_count": 71,
   "metadata": {},
   "outputs": [],
   "source": [
    "train['minute'] = train['Timestap'].dt.minute\n",
    "train['second'] = train['Timestap'].dt.second\n",
    "\n",
    "test['minute'] = test['Timestap'].dt.minute\n",
    "test['second'] = test['Timestap'].dt.second"
   ]
  },
  {
   "cell_type": "code",
   "execution_count": 72,
   "metadata": {},
   "outputs": [],
   "source": [
    "train['DataField_len'] = train['DataField'].astype(str).apply(lambda x: len(x.split(' ')))\n",
    "test['DataField_len'] = test['DataField'].astype(str).apply(lambda x: len(x.split(' ')))"
   ]
  },
  {
   "cell_type": "code",
   "execution_count": 73,
   "metadata": {},
   "outputs": [
    {
     "data": {
      "application/vnd.jupyter.widget-view+json": {
       "model_id": "ecbc60bdb912413da5f5acc0fd9e3b27",
       "version_major": 2,
       "version_minor": 0
      },
      "text/plain": [
       "HBox(children=(IntProgress(value=0, max=8), HTML(value='')))"
      ]
     },
     "metadata": {},
     "output_type": "display_data"
    },
    {
     "name": "stderr",
     "output_type": "stream",
     "text": [
      "C:\\Users\\User\\Anaconda3\\lib\\site-packages\\ipykernel_launcher.py:10: FutureWarning: Sorting because non-concatenation axis is not aligned. A future version\n",
      "of pandas will change to not sort by default.\n",
      "\n",
      "To accept the future behavior, pass 'sort=False'.\n",
      "\n",
      "To retain the current behavior and silence the warning, pass 'sort=True'.\n",
      "\n",
      "  # Remove the CWD from sys.path while we load stuff.\n",
      "C:\\Users\\User\\Anaconda3\\lib\\site-packages\\ipykernel_launcher.py:11: FutureWarning: Sorting because non-concatenation axis is not aligned. A future version\n",
      "of pandas will change to not sort by default.\n",
      "\n",
      "To accept the future behavior, pass 'sort=False'.\n",
      "\n",
      "To retain the current behavior and silence the warning, pass 'sort=True'.\n",
      "\n",
      "  # This is added back by InteractiveShellApp.init_path()\n"
     ]
    },
    {
     "name": "stdout",
     "output_type": "stream",
     "text": [
      "\n"
     ]
    }
   ],
   "source": [
    "train_df = pd.DataFrame()\n",
    "test_df = pd.DataFrame()\n",
    "\n",
    "for num in tqdm_notebook(train['DataField_len'].unique()):\n",
    "    train__df_field = train[train['DataField_len']==num].reset_index(drop=True)\n",
    "    test__df_field = test[test['DataField_len']==num].reset_index(drop=True)\n",
    "    for num1 in np.arange(num):\n",
    "        train__df_field['DataField_{}'.format(num1)] = train__df_field['DataField'].astype(str).apply(lambda x: x.split(' ')[num1])\n",
    "        test__df_field['DataField_{}'.format(num1)] = test__df_field['DataField'].astype(str).apply(lambda x: x.split(' ')[num1])\n",
    "    train_df = pd.concat([train_df, train__df_field], axis=0).reset_index(drop=True)\n",
    "    test_df = pd.concat([test_df, test__df_field], axis=0).reset_index(drop=True)"
   ]
  },
  {
   "cell_type": "code",
   "execution_count": 79,
   "metadata": {},
   "outputs": [],
   "source": [
    "features = [c for c in train_df.columns if c not in ['Class', 'Number', 'Timestap']]\n",
    "features_columns = features\n",
    "categorical_features = ['CANID','DLC', 'DataField_0','DataField_1','DataField_2','DataField_3',\n",
    "                       'DataField_4','DataField_5','DataField_7','minute','second']"
   ]
  },
  {
   "cell_type": "code",
   "execution_count": 75,
   "metadata": {},
   "outputs": [],
   "source": [
    "class_binary = {'R':0, 'T':1}\n",
    "train_df['Class'] = train_df['Class'].map(class_binary)\n",
    "train_df['Number'] = train_df.index"
   ]
  },
  {
   "cell_type": "code",
   "execution_count": 76,
   "metadata": {},
   "outputs": [],
   "source": [
    "del train_df['Timestap'] ; del train_df['DataField']\n",
    "del test_df['Timestap'] ; del test_df['DataField']"
   ]
  },
  {
   "cell_type": "code",
   "execution_count": 80,
   "metadata": {},
   "outputs": [
    {
     "data": {
      "application/vnd.jupyter.widget-view+json": {
       "model_id": "0d25fb4189aa431a9259298f629e20d8",
       "version_major": 2,
       "version_minor": 0
      },
      "text/plain": [
       "HBox(children=(IntProgress(value=0, max=15), HTML(value='')))"
      ]
     },
     "metadata": {},
     "output_type": "display_data"
    },
    {
     "name": "stdout",
     "output_type": "stream",
     "text": [
      "\n"
     ]
    }
   ],
   "source": [
    "from sklearn.preprocessing import LabelEncoder\n",
    "\n",
    "for col in tqdm_notebook(train_df.columns):\n",
    "    if train_df[col].dtype == 'object':\n",
    "        le = LabelEncoder()\n",
    "        le.fit(list(train_df[col].astype(str).values) + list(test_df[col].astype(str).values))\n",
    "        train_df[col] = le.transform(list(train_df[col].astype(str).values))\n",
    "        test_df[col] = le.transform(list(test_df[col].astype(str).values))   "
   ]
  },
  {
   "cell_type": "code",
   "execution_count": 81,
   "metadata": {},
   "outputs": [
    {
     "data": {
      "application/vnd.jupyter.widget-view+json": {
       "model_id": "3ab47ffe89d04e598984c8ae26f17477",
       "version_major": 2,
       "version_minor": 0
      },
      "text/plain": [
       "HBox(children=(IntProgress(value=0, max=11), HTML(value='')))"
      ]
     },
     "metadata": {},
     "output_type": "display_data"
    },
    {
     "name": "stdout",
     "output_type": "stream",
     "text": [
      "\n"
     ]
    }
   ],
   "source": [
    "train_df, test_df = transform_transaction_catcols(train_df, test_df)"
   ]
  },
  {
   "cell_type": "code",
   "execution_count": 82,
   "metadata": {},
   "outputs": [
    {
     "data": {
      "application/vnd.jupyter.widget-view+json": {
       "model_id": "9c6b56c6be704ff997a674fa2459ce12",
       "version_major": 2,
       "version_minor": 0
      },
      "text/plain": [
       "HBox(children=(IntProgress(value=0, max=13), HTML(value='')))"
      ]
     },
     "metadata": {},
     "output_type": "display_data"
    },
    {
     "name": "stdout",
     "output_type": "stream",
     "text": [
      "\n"
     ]
    }
   ],
   "source": [
    "for col in tqdm_notebook( features ):\n",
    "    if train_df[col].dtype=='O':\n",
    "        print(col)\n",
    "        train_df[col] = train_df[col].fillna('unseen_before_label')\n",
    "        test_df[col]  = test_df[col].fillna('unseen_before_label')\n",
    "        \n",
    "        train_df[col] = train_df[col].astype(str)\n",
    "        test_df[col] = test_df[col].astype(str)\n",
    "        \n",
    "        le = LabelEncoder()\n",
    "        le.fit(list(train_df[col])+list(test_df[col]))\n",
    "        train_df[col] = le.transform(train_df[col])\n",
    "        test_df[col]  = le.transform(test_df[col])\n",
    "    \n",
    "    elif col in categorical_features:\n",
    "        train_df[col] = train_df[col].astype(float).fillna(-999)\n",
    "        test_df[col]  = test_df[col].astype(float).fillna(-999)\n",
    "        \n",
    "        le = LabelEncoder()\n",
    "        le.fit(list(train_df[col])+list(test_df[col]))\n",
    "        train_df[col] = le.transform(train_df[col])\n",
    "        test_df[col]  = le.transform(test_df[col])"
   ]
  },
  {
   "cell_type": "markdown",
   "metadata": {},
   "source": [
    "### Tree Based Model"
   ]
  },
  {
   "cell_type": "code",
   "execution_count": 83,
   "metadata": {},
   "outputs": [],
   "source": [
    "from sklearn.preprocessing import LabelEncoder\n",
    "from catboost import CatBoostClassifier\n",
    "import random \n",
    "import os \n",
    "def seed_everything(seed=0):\n",
    "    random.seed(seed)\n",
    "    os.environ['PYTHONHASHSEED'] = str(seed)\n",
    "    np.random.seed(seed)"
   ]
  },
  {
   "cell_type": "code",
   "execution_count": 84,
   "metadata": {},
   "outputs": [],
   "source": [
    "SEED = 42\n",
    "seed_everything(SEED)\n",
    "TARGET = 'Class'"
   ]
  },
  {
   "cell_type": "code",
   "execution_count": 88,
   "metadata": {},
   "outputs": [],
   "source": [
    "########################### Model params\n",
    "cat_params = {\n",
    "                'n_estimators':5000,\n",
    "                'learning_rate': 0.07,\n",
    "                'eval_metric':'F1',\n",
    "                'loss_function':'Logloss',\n",
    "                'random_seed':SEED,\n",
    "                'metric_period':500,\n",
    "                'od_wait':500,\n",
    "                'task_type':'GPU',\n",
    "                'depth': 8,\n",
    "                #'colsample_bylevel':0.7,\n",
    "                } "
   ]
  },
  {
   "cell_type": "code",
   "execution_count": 89,
   "metadata": {},
   "outputs": [
    {
     "data": {
      "text/plain": [
       "array([2, 3, 0, 4, 1, 5], dtype=int64)"
      ]
     },
     "execution_count": 89,
     "metadata": {},
     "output_type": "execute_result"
    }
   ],
   "source": [
    "train_df['minute'].unique()"
   ]
  },
  {
   "cell_type": "code",
   "execution_count": 90,
   "metadata": {},
   "outputs": [
    {
     "data": {
      "text/plain": [
       "array([1, 3, 2, 4, 5], dtype=int64)"
      ]
     },
     "execution_count": 90,
     "metadata": {},
     "output_type": "execute_result"
    }
   ],
   "source": [
    "test_df['minute'].unique()"
   ]
  },
  {
   "cell_type": "code",
   "execution_count": 111,
   "metadata": {},
   "outputs": [
    {
     "name": "stderr",
     "output_type": "stream",
     "text": [
      "C:\\Users\\User\\Anaconda3\\lib\\site-packages\\ipykernel_launcher.py:17: SettingWithCopyWarning: \n",
      "A value is trying to be set on a copy of a slice from a DataFrame.\n",
      "Try using .loc[row_indexer,col_indexer] = value instead\n",
      "\n",
      "See the caveats in the documentation: http://pandas.pydata.org/pandas-docs/stable/user_guide/indexing.html#returning-a-view-versus-a-copy\n"
     ]
    },
    {
     "name": "stdout",
     "output_type": "stream",
     "text": [
      "Fold: 0\n",
      "0:\tlearn: 0.9993858\ttest: 0.7036206\tbest: 0.7036206 (0)\ttotal: 91.1ms\tremaining: 7m 35s\n",
      "500:\tlearn: 1.0000000\ttest: 0.8022677\tbest: 0.8051177 (114)\ttotal: 33.2s\tremaining: 4m 57s\n",
      "bestTest = 0.8051177351\n",
      "bestIteration = 114\n",
      "Shrink model to first 115 iterations.\n"
     ]
    },
    {
     "name": "stderr",
     "output_type": "stream",
     "text": [
      "C:\\Users\\User\\Anaconda3\\lib\\site-packages\\ipykernel_launcher.py:36: SettingWithCopyWarning: \n",
      "A value is trying to be set on a copy of a slice from a DataFrame.\n",
      "Try using .loc[row_indexer,col_indexer] = value instead\n",
      "\n",
      "See the caveats in the documentation: http://pandas.pydata.org/pandas-docs/stable/user_guide/indexing.html#returning-a-view-versus-a-copy\n"
     ]
    },
    {
     "name": "stdout",
     "output_type": "stream",
     "text": [
      "Fold: 1\n",
      "0:\tlearn: 0.9991082\ttest: 0.0000000\tbest: 0.0000000 (0)\ttotal: 111ms\tremaining: 9m 14s\n",
      "500:\tlearn: 1.0000000\ttest: 0.9663851\tbest: 0.9663851 (486)\ttotal: 40.8s\tremaining: 6m 6s\n",
      "1000:\tlearn: 1.0000000\ttest: 0.9671757\tbest: 0.9689756 (610)\ttotal: 1m 18s\tremaining: 5m 15s\n",
      "1500:\tlearn: 1.0000000\ttest: 0.9710028\tbest: 0.9710376 (1463)\ttotal: 1m 57s\tremaining: 4m 33s\n",
      "2000:\tlearn: 1.0000000\ttest: 0.9731816\tbest: 0.9736360 (1991)\ttotal: 2m 35s\tremaining: 3m 53s\n",
      "bestTest = 0.9736360045\n",
      "bestIteration = 1991\n",
      "Shrink model to first 1992 iterations.\n",
      "Fold: 2\n",
      "0:\tlearn: 0.9989197\ttest: 0.9959636\tbest: 0.9959636 (0)\ttotal: 145ms\tremaining: 12m 7s\n",
      "500:\tlearn: 1.0000000\ttest: 0.9935311\tbest: 0.9977022 (12)\ttotal: 49.4s\tremaining: 7m 23s\n",
      "bestTest = 0.9977022423\n",
      "bestIteration = 12\n",
      "Shrink model to first 13 iterations.\n",
      "Fold: 3\n",
      "0:\tlearn: 0.9987811\ttest: 1.0000000\tbest: 1.0000000 (0)\ttotal: 139ms\tremaining: 11m 32s\n",
      "500:\tlearn: 1.0000000\ttest: 1.0000000\tbest: 1.0000000 (0)\ttotal: 57.7s\tremaining: 8m 37s\n",
      "bestTest = 1\n",
      "bestIteration = 0\n",
      "Shrink model to first 1 iterations.\n",
      "Fold: 4\n",
      "0:\tlearn: 0.9988065\ttest: 1.0000000\tbest: 1.0000000 (0)\ttotal: 136ms\tremaining: 11m 18s\n",
      "500:\tlearn: 1.0000000\ttest: 1.0000000\tbest: 1.0000000 (0)\ttotal: 58.3s\tremaining: 8m 43s\n",
      "bestTest = 1\n",
      "bestIteration = 0\n",
      "Shrink model to first 1 iterations.\n"
     ]
    }
   ],
   "source": [
    "from sklearn.model_selection import KFold, StratifiedKFold, TimeSeriesSplit, GroupKFold\n",
    "import gc\n",
    "\n",
    "NFOLDS = 5\n",
    "folds = GroupKFold(n_splits=NFOLDS)\n",
    "\n",
    "test_df[TARGET] = 0.5 \n",
    "    \n",
    "X ,y = train_df[features_columns], train_df[TARGET]    \n",
    "P, p_y = test_df[features_columns], test_df[TARGET]  \n",
    "    \n",
    "split_groups = train_df['minute']\n",
    "    # We don't need original sets anymore\n",
    "    # let's reduce it\n",
    "oofs = train_df[['Number',TARGET]]\n",
    "preds = test_df[['Number',TARGET]] \n",
    "preds['Class'] = 0\n",
    "gc.collect()\n",
    "    \n",
    "oof = np.zeros(len(train_df))\n",
    "predictions = np.zeros(len(test_df))\n",
    "\n",
    "for fold_, (trn_idx, val_idx) in enumerate(folds.split(X, y, groups=split_groups)):\n",
    "    print('Fold:',fold_)\n",
    "        \n",
    "    estimator = CatBoostClassifier(**cat_params)        \n",
    "    estimator.fit(\n",
    "        X.iloc[trn_idx,:],y[trn_idx],\n",
    "        eval_set=(X.iloc[val_idx,:], y[val_idx]),\n",
    "        cat_features=categorical_features,\n",
    "        use_best_model=True,\n",
    "        verbose=True)\n",
    "\n",
    "    oof_preds = estimator.predict_proba(X.iloc[val_idx,:])[:,1]\n",
    "    oof[val_idx] = (oof_preds - oof_preds.min())/(oof_preds.max() - oof_preds.min())\n",
    "    preds['Class'] += estimator.predict_proba(P)[:,1]/NFOLDS\n",
    "        \n",
    "    gc.collect()"
   ]
  },
  {
   "cell_type": "code",
   "execution_count": 112,
   "metadata": {},
   "outputs": [
    {
     "data": {
      "text/html": [
       "<div>\n",
       "<style scoped>\n",
       "    .dataframe tbody tr th:only-of-type {\n",
       "        vertical-align: middle;\n",
       "    }\n",
       "\n",
       "    .dataframe tbody tr th {\n",
       "        vertical-align: top;\n",
       "    }\n",
       "\n",
       "    .dataframe thead th {\n",
       "        text-align: right;\n",
       "    }\n",
       "</style>\n",
       "<table border=\"1\" class=\"dataframe\">\n",
       "  <thead>\n",
       "    <tr style=\"text-align: right;\">\n",
       "      <th></th>\n",
       "      <th>feature</th>\n",
       "      <th>score</th>\n",
       "    </tr>\n",
       "  </thead>\n",
       "  <tbody>\n",
       "    <tr>\n",
       "      <td>0</td>\n",
       "      <td>CANID</td>\n",
       "      <td>33.736560</td>\n",
       "    </tr>\n",
       "    <tr>\n",
       "      <td>6</td>\n",
       "      <td>DataField_4</td>\n",
       "      <td>22.922851</td>\n",
       "    </tr>\n",
       "    <tr>\n",
       "      <td>9</td>\n",
       "      <td>DataField_7</td>\n",
       "      <td>20.783309</td>\n",
       "    </tr>\n",
       "    <tr>\n",
       "      <td>3</td>\n",
       "      <td>DataField_1</td>\n",
       "      <td>14.087212</td>\n",
       "    </tr>\n",
       "    <tr>\n",
       "      <td>11</td>\n",
       "      <td>minute</td>\n",
       "      <td>3.559810</td>\n",
       "    </tr>\n",
       "    <tr>\n",
       "      <td>7</td>\n",
       "      <td>DataField_5</td>\n",
       "      <td>3.467725</td>\n",
       "    </tr>\n",
       "    <tr>\n",
       "      <td>12</td>\n",
       "      <td>second</td>\n",
       "      <td>0.780539</td>\n",
       "    </tr>\n",
       "    <tr>\n",
       "      <td>5</td>\n",
       "      <td>DataField_3</td>\n",
       "      <td>0.661994</td>\n",
       "    </tr>\n",
       "    <tr>\n",
       "      <td>1</td>\n",
       "      <td>DLC</td>\n",
       "      <td>0.000000</td>\n",
       "    </tr>\n",
       "    <tr>\n",
       "      <td>2</td>\n",
       "      <td>DataField_0</td>\n",
       "      <td>0.000000</td>\n",
       "    </tr>\n",
       "    <tr>\n",
       "      <td>4</td>\n",
       "      <td>DataField_2</td>\n",
       "      <td>0.000000</td>\n",
       "    </tr>\n",
       "    <tr>\n",
       "      <td>8</td>\n",
       "      <td>DataField_6</td>\n",
       "      <td>0.000000</td>\n",
       "    </tr>\n",
       "    <tr>\n",
       "      <td>10</td>\n",
       "      <td>DataField_len</td>\n",
       "      <td>0.000000</td>\n",
       "    </tr>\n",
       "  </tbody>\n",
       "</table>\n",
       "</div>"
      ],
      "text/plain": [
       "          feature      score\n",
       "0           CANID  33.736560\n",
       "6     DataField_4  22.922851\n",
       "9     DataField_7  20.783309\n",
       "3     DataField_1  14.087212\n",
       "11         minute   3.559810\n",
       "7     DataField_5   3.467725\n",
       "12         second   0.780539\n",
       "5     DataField_3   0.661994\n",
       "1             DLC   0.000000\n",
       "2     DataField_0   0.000000\n",
       "4     DataField_2   0.000000\n",
       "8     DataField_6   0.000000\n",
       "10  DataField_len   0.000000"
      ]
     },
     "execution_count": 112,
     "metadata": {},
     "output_type": "execute_result"
    }
   ],
   "source": [
    "feature_score = pd.DataFrame()\n",
    "feature_score['feature'] = features\n",
    "feature_score['score'] = estimator.get_feature_importance()\n",
    "feature_score = feature_score.sort_values(by='score', ascending=False)\n",
    "feature_score"
   ]
  },
  {
   "cell_type": "code",
   "execution_count": 113,
   "metadata": {},
   "outputs": [
    {
     "data": {
      "application/vnd.jupyter.widget-view+json": {
       "model_id": "d04ff0fafa544f648cca1a74d4381ed2",
       "version_major": 2,
       "version_minor": 0
      },
      "text/plain": [
       "HBox(children=(IntProgress(value=0), HTML(value='')))"
      ]
     },
     "metadata": {},
     "output_type": "display_data"
    },
    {
     "name": "stdout",
     "output_type": "stream",
     "text": [
      "\n"
     ]
    }
   ],
   "source": [
    "from sklearn.metrics import f1_score\n",
    "\n",
    "best_threshold_dict = {}\n",
    "for threshold in tqdm_notebook(np.linspace(0,1, 100)):\n",
    "    temp_f1_score = f1_score(y, [ 1 if x >=threshold else 0 for x in oof])\n",
    "    best_threshold_dict[threshold] = temp_f1_score"
   ]
  },
  {
   "cell_type": "code",
   "execution_count": 117,
   "metadata": {},
   "outputs": [
    {
     "data": {
      "text/plain": [
       "{0.0: 0.14430009376105887,\n",
       " 0.010101010101010102: 0.6643230908314877,\n",
       " 0.020202020202020204: 0.7095282710691351,\n",
       " 0.030303030303030304: 0.7442417396215758,\n",
       " 0.04040404040404041: 0.7714392768488595,\n",
       " 0.05050505050505051: 0.7811015110078493,\n",
       " 0.06060606060606061: 0.778735123519556,\n",
       " 0.07070707070707072: 0.7740769234003018,\n",
       " 0.08080808080808081: 0.7840867304339552,\n",
       " 0.09090909090909091: 0.799322593022179,\n",
       " 0.10101010101010102: 0.8093634731662008,\n",
       " 0.11111111111111112: 0.8185455826430978,\n",
       " 0.12121212121212122: 0.8228041184695564,\n",
       " 0.13131313131313133: 0.8277455802631519,\n",
       " 0.14141414141414144: 0.8293401665598975,\n",
       " 0.15151515151515152: 0.8547108505892397,\n",
       " 0.16161616161616163: 0.855550048384432,\n",
       " 0.17171717171717174: 0.8560389941622112,\n",
       " 0.18181818181818182: 0.8574591594873467,\n",
       " 0.19191919191919193: 0.8671824536724705,\n",
       " 0.20202020202020204: 0.8688119879775081,\n",
       " 0.21212121212121213: 0.8739819168173598,\n",
       " 0.22222222222222224: 0.8776852300242132,\n",
       " 0.23232323232323235: 0.8799864051272093,\n",
       " 0.24242424242424243: 0.8831810540165193,\n",
       " 0.25252525252525254: 0.8889815377974847,\n",
       " 0.26262626262626265: 0.8917130388148411,\n",
       " 0.27272727272727276: 0.8936388424576818,\n",
       " 0.2828282828282829: 0.895683631008273,\n",
       " 0.29292929292929293: 0.8968004987777964,\n",
       " 0.30303030303030304: 0.8979458366776658,\n",
       " 0.31313131313131315: 0.8988275903112538,\n",
       " 0.32323232323232326: 0.8996798133485566,\n",
       " 0.33333333333333337: 0.9015056929818889,\n",
       " 0.3434343434343435: 0.9045282811696771,\n",
       " 0.3535353535353536: 0.9067321739478476,\n",
       " 0.36363636363636365: 0.9075358414413692,\n",
       " 0.37373737373737376: 0.9081406652435786,\n",
       " 0.38383838383838387: 0.9088830158021696,\n",
       " 0.393939393939394: 0.9107281946140433,\n",
       " 0.4040404040404041: 0.9118132421010264,\n",
       " 0.4141414141414142: 0.9130664785752072,\n",
       " 0.42424242424242425: 0.9135350663622019,\n",
       " 0.43434343434343436: 0.914005013138053,\n",
       " 0.4444444444444445: 0.9147515332004139,\n",
       " 0.4545454545454546: 0.916727368378455,\n",
       " 0.4646464646464647: 0.9179198597976994,\n",
       " 0.4747474747474748: 0.9186355963563184,\n",
       " 0.48484848484848486: 0.9193019834626895,\n",
       " 0.494949494949495: 0.9194419076610858,\n",
       " 0.5050505050505051: 0.9197685631629701,\n",
       " 0.5151515151515152: 0.9202612254847197,\n",
       " 0.5252525252525253: 0.9206258890469418,\n",
       " 0.5353535353535354: 0.921097709124364,\n",
       " 0.5454545454545455: 0.9212272184235276,\n",
       " 0.5555555555555556: 0.9217379804268652,\n",
       " 0.5656565656565657: 0.9219396295146857,\n",
       " 0.5757575757575758: 0.9220326564257039,\n",
       " 0.5858585858585859: 0.9220842662324445,\n",
       " 0.595959595959596: 0.9224441175123066,\n",
       " 0.6060606060606061: 0.9230541957240445,\n",
       " 0.6161616161616162: 0.9236792202760843,\n",
       " 0.6262626262626263: 0.923928063349939,\n",
       " 0.6363636363636365: 0.9241534781477759,\n",
       " 0.6464646464646465: 0.9197172276010451,\n",
       " 0.6565656565656566: 0.9199842171878924,\n",
       " 0.6666666666666667: 0.9186533529989156,\n",
       " 0.6767676767676768: 0.9203410424861503,\n",
       " 0.686868686868687: 0.9209795506185307,\n",
       " 0.696969696969697: 0.9227139922156492,\n",
       " 0.7070707070707072: 0.9272645214170475,\n",
       " 0.7171717171717172: 0.928689814983192,\n",
       " 0.7272727272727273: 0.9300275768770488,\n",
       " 0.7373737373737375: 0.9311543050049231,\n",
       " 0.7474747474747475: 0.9314862878764189,\n",
       " 0.7575757575757577: 0.9333904342103888,\n",
       " 0.7676767676767677: 0.934151581522506,\n",
       " 0.7777777777777778: 0.9256139943782005,\n",
       " 0.787878787878788: 0.9257997130317352,\n",
       " 0.797979797979798: 0.9261475781851957,\n",
       " 0.8080808080808082: 0.9222474340486894,\n",
       " 0.8181818181818182: 0.9227170003501289,\n",
       " 0.8282828282828284: 0.9228018231695346,\n",
       " 0.8383838383838385: 0.9229226041683253,\n",
       " 0.8484848484848485: 0.9230369076750766,\n",
       " 0.8585858585858587: 0.923232140865862,\n",
       " 0.8686868686868687: 0.9233727669204086,\n",
       " 0.8787878787878789: 0.9232763612986861,\n",
       " 0.888888888888889: 0.9230818285204119,\n",
       " 0.8989898989898991: 0.9229935097035513,\n",
       " 0.9090909090909092: 0.922865892560929,\n",
       " 0.9191919191919192: 0.9202332349084861,\n",
       " 0.9292929292929294: 0.9199889110431082,\n",
       " 0.9393939393939394: 0.9196407619941549,\n",
       " 0.9494949494949496: 0.9190616962465715,\n",
       " 0.9595959595959597: 0.9184288094322696,\n",
       " 0.9696969696969697: 0.917609565161594,\n",
       " 0.9797979797979799: 0.9270718651531832,\n",
       " 0.98989898989899: 0.786418669726741,\n",
       " 1.0: 0.44531268424983295}"
      ]
     },
     "execution_count": 117,
     "metadata": {},
     "output_type": "execute_result"
    }
   ],
   "source": [
    "best_threshold_dict"
   ]
  },
  {
   "cell_type": "code",
   "execution_count": 114,
   "metadata": {},
   "outputs": [
    {
     "data": {
      "text/plain": [
       "0.934151581522506"
      ]
     },
     "execution_count": 114,
     "metadata": {},
     "output_type": "execute_result"
    }
   ],
   "source": [
    "max(best_threshold_dict.values())"
   ]
  },
  {
   "cell_type": "code",
   "execution_count": 116,
   "metadata": {},
   "outputs": [
    {
     "data": {
      "text/plain": [
       "array([[<matplotlib.axes._subplots.AxesSubplot object at 0x00000269B0851160>]],\n",
       "      dtype=object)"
      ]
     },
     "execution_count": 116,
     "metadata": {},
     "output_type": "execute_result"
    },
    {
     "data": {
      "image/png": "[encoded data removed]",
      "text/plain": [
       "<Figure size 432x288 with 1 Axes>"
      ]
     },
     "metadata": {
      "needs_background": "light"
     },
     "output_type": "display_data"
    }
   ],
   "source": [
    "pd.DataFrame(oof).hist()"
   ]
  },
  {
   "cell_type": "code",
   "execution_count": 118,
   "metadata": {},
   "outputs": [
    {
     "name": "stderr",
     "output_type": "stream",
     "text": [
      "C:\\Users\\User\\Anaconda3\\lib\\site-packages\\ipykernel_launcher.py:1: SettingWithCopyWarning: \n",
      "A value is trying to be set on a copy of a slice from a DataFrame.\n",
      "Try using .loc[row_indexer,col_indexer] = value instead\n",
      "\n",
      "See the caveats in the documentation: http://pandas.pydata.org/pandas-docs/stable/user_guide/indexing.html#returning-a-view-versus-a-copy\n",
      "  \"\"\"Entry point for launching an IPython kernel.\n"
     ]
    }
   ],
   "source": [
    "preds['Class'] = preds['Class'].apply(lambda x: 'R' if x <= 0.7676767676767677 else 'T')"
   ]
  },
  {
   "cell_type": "code",
   "execution_count": 119,
   "metadata": {},
   "outputs": [],
   "source": [
    "preds = preds.sort_values(by='Number')\n",
    "preds = preds.reset_index(drop=True)"
   ]
  },
  {
   "cell_type": "code",
   "execution_count": 120,
   "metadata": {},
   "outputs": [],
   "source": [
    "preds.to_csv(\"Tree_based.csv\",index=False)"
   ]
  },
  {
   "cell_type": "code",
   "execution_count": 123,
   "metadata": {},
   "outputs": [
    {
     "data": {
      "text/plain": [
       "(370896, 2)"
      ]
     },
     "execution_count": 123,
     "metadata": {},
     "output_type": "execute_result"
    }
   ],
   "source": [
    "preds.shape"
   ]
  },
  {
   "cell_type": "code",
   "execution_count": null,
   "metadata": {},
   "outputs": [],
   "source": []
  }
 ],
 "metadata": {
  "kernelspec": {
   "display_name": "Python 3",
   "language": "python",
   "name": "python3"
  },
  "language_info": {
   "codemirror_mode": {
    "name": "ipython",
    "version": 3
   },
   "file_extension": ".py",
   "mimetype": "text/x-python",
   "name": "python",
   "nbconvert_exporter": "python",
   "pygments_lexer": "ipython3",
   "version": "3.7.3"
  }
 },
 "nbformat": 4,
 "nbformat_minor": 2
}
