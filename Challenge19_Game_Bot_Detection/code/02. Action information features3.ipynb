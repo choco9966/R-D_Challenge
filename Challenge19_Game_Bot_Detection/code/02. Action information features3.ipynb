{
 "cells": [
  {
   "cell_type": "code",
   "execution_count": 1,
   "metadata": {
    "scrolled": true
   },
   "outputs": [],
   "source": [
    "import pandas as pd\n",
    "import numpy as np\n",
    "import os\n",
    "import gc\n",
    "from tqdm import tqdm_notebook # check the progressbar in the python. \n",
    "import glob # check the file name in fold. "
   ]
  },
  {
   "cell_type": "code",
   "execution_count": 2,
   "metadata": {},
   "outputs": [
    {
     "data": {
      "text/plain": [
       "'C:\\\\spark-2.4.4-bin-hadoop2.7\\\\spark-2.4.4-bin-hadoop2.7'"
      ]
     },
     "execution_count": 2,
     "metadata": {},
     "output_type": "execute_result"
    }
   ],
   "source": [
    "import pyspark\n",
    "\n",
    "import findspark\n",
    "findspark.init()\n",
    "findspark.find()"
   ]
  },
  {
   "cell_type": "code",
   "execution_count": null,
   "metadata": {},
   "outputs": [],
   "source": [
    "# C:\\Users\\User\\Documents\\R&D Challenge2019\n",
    "path = 'C:/Users/User/Documents/R_D Challenge2019/Challenge19_GameBot_Preliminary/dataset/Challenge19_GameBot_Final/'"
   ]
  },
  {
   "cell_type": "code",
   "execution_count": null,
   "metadata": {},
   "outputs": [],
   "source": [
    "read_file_lst = glob.glob(path + '*')\n",
    "read_file_lst[0:2]"
   ]
  },
  {
   "cell_type": "code",
   "execution_count": null,
   "metadata": {
    "scrolled": true
   },
   "outputs": [],
   "source": [
    "from pyspark import SparkContext\n",
    "sc = SparkContext()"
   ]
  },
  {
   "cell_type": "code",
   "execution_count": null,
   "metadata": {},
   "outputs": [],
   "source": [
    "import functools \n",
    "\n",
    "def unionAll(dfs):\n",
    "    return functools.reduce(lambda df1,df2: df1.union(df2.select(df1.columns)), dfs) "
   ]
  },
  {
   "cell_type": "code",
   "execution_count": null,
   "metadata": {
    "scrolled": true
   },
   "outputs": [],
   "source": [
    "from pyspark.sql import SQLContext\n",
    "from pyspark import SparkFiles\n",
    "from pyspark.sql.functions import lit\n",
    "\n",
    "sqlContext = SQLContext(sc)\n",
    "for i in tqdm_notebook(read_file_lst):\n",
    "    # sqlContext.read.csv() : path를 C:Users/..의 형식으로 맞춰줘야함. (초기값이 spark설치된 곳으로 지정되어있음)\n",
    "    df_temp = sqlContext.read.csv(SparkFiles.get(i), header=True, inferSchema= True) # read.csv \n",
    "    \n",
    "    # transformation으로 추가하려면, df = df.withColumn(\"age_square\", col(\"age\")**2)\n",
    "    df_temp = df_temp.withColumn(\"date\", lit(i[-8:-4])) # column 추가, lit명령어가 value를 추가하는 방법. \n",
    "    \n",
    "    if i == read_file_lst[0]:\n",
    "        df_total = df_temp\n",
    "    else:\n",
    "        df_total = unionAll([df_total, df_temp]) # row-wise 결합\n",
    "        \n",
    "    del df_temp \n",
    "    gc.collect()"
   ]
  },
  {
   "cell_type": "code",
   "execution_count": null,
   "metadata": {},
   "outputs": [],
   "source": [
    "import pyspark.sql.functions as f\n",
    "# userItem=df.groupby('userId').agg(f.expr('count(distinct item)').alias('n_item'))\n",
    "# df_total.groupBy(\"log_id\").agg(f.expr('count(distinct item)').alias('log_id'))\n",
    "# df_total.select(\"actor_account\").distinct().count()"
   ]
  },
  {
   "cell_type": "code",
   "execution_count": null,
   "metadata": {},
   "outputs": [],
   "source": [
    "i = 'C:/Users/User/Documents/R_D Challenge2019/Challenge19_GameBot_Preliminary/'\n",
    "train_label = pd.read_csv(i + \"labeled_accounts.csv\")\n",
    "test_label = pd.read_csv(i + \"test_accounts.csv\")\n",
    "del train_label['class']"
   ]
  },
  {
   "cell_type": "raw",
   "metadata": {},
   "source": [
    "print((train_label.count(), len(train_label.columns)))\n",
    "print((test_label.count(), len(test_label.columns)))"
   ]
  },
  {
   "cell_type": "raw",
   "metadata": {},
   "source": [
    "- train의 size : (356997380, 28)\n",
    "- test의 size : (362572164, 28)"
   ]
  },
  {
   "cell_type": "markdown",
   "metadata": {},
   "source": [
    "### Feature Engineering"
   ]
  },
  {
   "cell_type": "markdown",
   "metadata": {},
   "source": [
    "Player action features\n",
    "### Ratio는 무슨의미인지 잘 몰라서 아직 코드를 안짰습니다. \n",
    "- Sit (count / ratio / per_day_count)\n",
    "- Exp_get\n",
    "- item_get\n",
    "- money_get\n",
    "- abyss_get\n",
    "- Exp_repair (count / per_day_count)\n",
    "- Use_portal\n",
    "- Killed_bypc\n",
    "- Killed_bynpc\n",
    "- Teleport\n",
    "- Reborn"
   ]
  },
  {
   "cell_type": "code",
   "execution_count": null,
   "metadata": {},
   "outputs": [],
   "source": [
    "import pyspark.sql.functions as func # pyspark의 유용한 기능을 사용하는 패키지 : countDistinct 사용가능\n",
    "# 원하는 부분만 출력할때는 df.filter()를 사용. \n",
    "\n",
    "# 아이온데이터에 actor는 다르지만 actor_account가 같은 경우는 있는 것 같음. \n",
    "# 하지만 제출형태가 actor_account를 기준으로 해가지고 groupby를 아래의 변수로 진행했음. \n",
    "df_total = df_total.withColumnRenamed(\"actor_account\", \"account\")"
   ]
  },
  {
   "cell_type": "code",
   "execution_count": null,
   "metadata": {},
   "outputs": [],
   "source": [
    "def action_features(train, test, df, name, count, ratio, per_day_count, log_id, etc_num):\n",
    "    if per_day_count == True:\n",
    "        #print(\"Processing per_day_count features...\")\n",
    "        df_agg = df.filter(df['log_id'] == log_id).select('account', 'date').toPandas()\n",
    "        df_agg = df_agg.groupby(['account', 'date'])['account'].agg({'count'}).reset_index()\n",
    "        df_agg = df_agg.groupby(['account'])['count'].agg({'mean', 'sum'}).reset_index()\n",
    "        df_agg = df_agg.rename(columns={'mean':'{}_per_day_count'.format(name), 'sum':'{}_sum_count'.format(name), 'std':'{}_std_per_day_count'.format(name)})\n",
    "        train = train.merge(df_agg, on='account' , how='left')\n",
    "        test = test.merge(df_agg, on='account' , how='left')\n",
    "        \n",
    "    if count == True:\n",
    "        #print(\"Processing count features...\")\n",
    "        df_agg = df.filter(df['log_id'] == log_id).select('account').toPandas()\n",
    "        df_agg = df_agg.groupby(['account'])['account'].agg({'count'}).reset_index().rename(columns={'count':\"{}_count\".format(name)})\n",
    "        train = train.merge(df_agg, on='account' , how='left')\n",
    "        test = test.merge(df_agg, on='account' , how='left')\n",
    "        #if ratio == True:\n",
    "        #    # \"{}_count\".format(name)\n",
    "        #    # Count (총) / Sum (총)\n",
    "        #    # etc_num을 Sum으로 나누면 Ratio가 됨. \n",
    "        #    df_agg = df.filter(df['log_id'] == log_id).groupBy('account').agg({'account_account':'count', '{}'.format(etc_num):'sum'}).withColumnRenamed(\"count(account_account)\", \"{}_count\".format(name)).withColumnRenamed(\"sum({})\".format(etc_num), \"{}_sum\".format(name))\n",
    "        #    df = df.join(df_agg, ['account'], how='left')\n",
    "        #    df = df.withColumn('{}_ratio'.format(name), df['etc_num']/df[\"{}_sum\".format(name)]).drop(\"{}_sum\".format(name))\n",
    "    print(\"Processing end...\")\n",
    "    return train, test"
   ]
  },
  {
   "cell_type": "code",
   "execution_count": null,
   "metadata": {},
   "outputs": [],
   "source": [
    "#Feature name : donepoll\n",
    "df_total_agg = df_total.filter(df_total['log_id'] == 152).select('account').toPandas()\n",
    "df_total_agg = df_total_agg.groupby('account')['account'].agg({'count'}).reset_index().rename(columns={'count':'count_donepoll'})\n",
    "\n",
    "train_label = train_label.merge(df_total_agg, on='account' , how='left')\n",
    "test_label = test_label.merge(df_total_agg, on='account' , how='left')"
   ]
  },
  {
   "cell_type": "code",
   "execution_count": null,
   "metadata": {},
   "outputs": [],
   "source": [
    "# Quest_Try\n",
    "df_total_agg = df_total.filter(df_total['log_id'] == 501).select('account').toPandas()\n",
    "df_total_agg = df_total_agg.groupby('account')['account'].agg({'count'}).reset_index().rename(columns={'count':'quest_try_count'})\n",
    "\n",
    "train_label = train_label.merge(df_total_agg, on='account' , how='left')\n",
    "test_label = test_label.merge(df_total_agg, on='account' , how='left')"
   ]
  },
  {
   "cell_type": "code",
   "execution_count": null,
   "metadata": {},
   "outputs": [],
   "source": [
    "# Quest_Success\n",
    "df_total_agg = df_total.filter(df_total['log_id'] == 503).select('account').toPandas()\n",
    "df_total_agg = df_total_agg.groupby('account')['account'].agg({'count'}).reset_index().rename(columns={'count':'quest_success_count'})\n",
    "\n",
    "train_label = train_label.merge(df_total_agg, on='account' , how='left')\n",
    "test_label = test_label.merge(df_total_agg, on='account' , how='left')"
   ]
  },
  {
   "cell_type": "code",
   "execution_count": null,
   "metadata": {},
   "outputs": [],
   "source": [
    "# GatherLimitUp\n",
    "df_total_agg = df_total.filter(df_total['log_id'] == 416).select('account','etc_num8').toPandas()\n",
    "df_total_agg = df_total_agg.groupby('account')['etc_num8'].agg({'count', 'sum'}).reset_index().rename(columns={'sum':'sum_gather', 'count':'count_gather'})\n",
    "\n",
    "train_label = train_label.merge(df_total_agg, on='account' , how='left')\n",
    "test_label = test_label.merge(df_total_agg, on='account' , how='left')"
   ]
  },
  {
   "cell_type": "code",
   "execution_count": null,
   "metadata": {},
   "outputs": [],
   "source": [
    "# Gather Item\n",
    "# 안돌아감 ㅠㅠ\n",
    "df_total_agg = df_total.filter(df_total['log_id'] == 205).select('account','etc_num1').toPandas()\n",
    "df_total_agg = df_total_agg.groupby('account')['etc_num8'].agg({'count', 'sum'}).reset_index().rename(columns={'sum':'sum_gather_item', 'count':'count_gather_item'})\n",
    "\n",
    "train_label = train_label.merge(df_total_agg, on='account' , how='left')\n",
    "test_label = test_label.merge(df_total_agg, on='account' , how='left')"
   ]
  },
  {
   "cell_type": "code",
   "execution_count": null,
   "metadata": {},
   "outputs": [],
   "source": [
    "# C:\\Users\\User\\Documents\\R&D Challenge2019\n",
    "outputpath = 'C:/Users/User/Documents/R_D Challenge2019/Challenge19_GameBot_Preliminary/features/'\n",
    "train_label.to_csv(outputpath + \"train_action3.csv\", index=False)\n",
    "test_label.to_csv(outputpath + \"test_action3.csv\", index=False)"
   ]
  },
  {
   "cell_type": "code",
   "execution_count": null,
   "metadata": {},
   "outputs": [],
   "source": []
  }
 ],
 "metadata": {
  "kernelspec": {
   "display_name": "Python 3",
   "language": "python",
   "name": "python3"
  },
  "language_info": {
   "codemirror_mode": {
    "name": "ipython",
    "version": 3
   },
   "file_extension": ".py",
   "mimetype": "text/x-python",
   "name": "python",
   "nbconvert_exporter": "python",
   "pygments_lexer": "ipython3",
   "version": "3.6.8"
  }
 },
 "nbformat": 4,
 "nbformat_minor": 2
}
