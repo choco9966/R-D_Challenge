{
 "cells": [
  {
   "cell_type": "code",
   "execution_count": null,
   "metadata": {
    "scrolled": true
   },
   "outputs": [],
   "source": [
    "import pandas as pd\n",
    "import numpy as np\n",
    "import os\n",
    "import gc\n",
    "from tqdm import tqdm_notebook # check the progressbar in the python. \n",
    "import glob # check the file name in fold. "
   ]
  },
  {
   "cell_type": "code",
   "execution_count": null,
   "metadata": {},
   "outputs": [],
   "source": [
    "import pyspark\n",
    "\n",
    "import findspark\n",
    "findspark.init()\n",
    "findspark.find()"
   ]
  },
  {
   "cell_type": "code",
   "execution_count": null,
   "metadata": {},
   "outputs": [],
   "source": [
    "# C:\\Users\\User\\Documents\\R&D Challenge2019\n",
    "path = 'C:/Users/User/Documents/R_D Challenge2019/Challenge19_GameBot_Preliminary/dataset/'"
   ]
  },
  {
   "cell_type": "code",
   "execution_count": null,
   "metadata": {},
   "outputs": [],
   "source": [
    "read_file_lst = glob.glob(path + '*')\n",
    "read_file_lst[0:2]"
   ]
  },
  {
   "cell_type": "code",
   "execution_count": null,
   "metadata": {
    "scrolled": true
   },
   "outputs": [],
   "source": [
    "from pyspark import SparkContext\n",
    "sc = SparkContext()"
   ]
  },
  {
   "cell_type": "code",
   "execution_count": null,
   "metadata": {},
   "outputs": [],
   "source": [
    "import functools \n",
    "\n",
    "def unionAll(dfs):\n",
    "    return functools.reduce(lambda df1,df2: df1.union(df2.select(df1.columns)), dfs) "
   ]
  },
  {
   "cell_type": "code",
   "execution_count": null,
   "metadata": {
    "scrolled": true
   },
   "outputs": [],
   "source": [
    "from pyspark.sql import SQLContext\n",
    "from pyspark import SparkFiles\n",
    "from pyspark.sql.functions import lit\n",
    "\n",
    "sqlContext = SQLContext(sc)\n",
    "for i in tqdm_notebook(read_file_lst):\n",
    "    # sqlContext.read.csv() : path를 C:Users/..의 형식으로 맞춰줘야함. (초기값이 spark설치된 곳으로 지정되어있음)\n",
    "    df_temp = sqlContext.read.csv(SparkFiles.get(i), header=True, inferSchema= True) # read.csv \n",
    "    \n",
    "    # transformation으로 추가하려면, df = df.withColumn(\"age_square\", col(\"age\")**2)\n",
    "    df_temp = df_temp.withColumn(\"Date\", lit(i[-8:-4])) # column 추가, lit명령어가 value를 추가하는 방법. \n",
    "    \n",
    "    if i == read_file_lst[0]:\n",
    "        df_total = df_temp\n",
    "    else:\n",
    "        df_total = unionAll([df_total, df_temp]) # row-wise 결합\n",
    "        \n",
    "    del df_temp \n",
    "    gc.collect()"
   ]
  },
  {
   "cell_type": "code",
   "execution_count": null,
   "metadata": {},
   "outputs": [],
   "source": [
    "import pyspark.sql.functions as f\n",
    "# userItem=df.groupby('userId').agg(f.expr('count(distinct item)').alias('n_item'))\n",
    "# df_total.groupBy(\"log_id\").agg(f.expr('count(distinct item)').alias('log_id'))\n",
    "# df_total.select(\"actor_account\").distinct().count()"
   ]
  },
  {
   "cell_type": "code",
   "execution_count": null,
   "metadata": {},
   "outputs": [],
   "source": [
    "i = 'C:/Users/User/Documents/R_D Challenge2019/Challenge19_GameBot_Preliminary/'\n",
    "train_label = sqlContext.read.csv(SparkFiles.get(i + 'labeled_accounts.csv'), header=True, inferSchema= True)\n",
    "test_label = sqlContext.read.csv(SparkFiles.get(i + 'test_accounts.csv'), header=True, inferSchema= True)"
   ]
  },
  {
   "cell_type": "markdown",
   "metadata": {},
   "source": [
    "### Feature Engineering"
   ]
  },
  {
   "cell_type": "markdown",
   "metadata": {},
   "source": [
    "Network measures features\n",
    "- Party \n",
    "- Friend\n",
    "- Trade \n",
    "- mail \n",
    "- dual \n",
    "- Private shop"
   ]
  },
  {
   "cell_type": "markdown",
   "metadata": {},
   "source": [
    "Setting \n",
    "방법1. \n",
    "- 패키지 설치 : pip install graphframes\n",
    "- 패키지 로드 : from graphframes import *\n",
    "- graphframes example : https://towardsdatascience.com/graphframes-in-jupyter-a-practical-guide-9b3b346cebc5\n",
    "\n",
    "방법2. \n",
    "하드코딩 \n",
    "- In_degree : 나한테 들어오는 갯수 \n",
    "- out_degree : 나에서 나가는 갯수 \n",
    "- Eccentricity : The eccentricity of a node s is the longest shortest path d between this node and all other nodes t of the network:\n",
    "\n",
    "방법3. \n",
    "- python : https://www.kirenz.com/post/2019-08-13-network_analysis/\n",
    "- 이론 : http://blog.naver.com/PostView.nhn?blogId=happyrachy&logNo=221273644056&parentCategoryNo=&categoryNo=1&viewDate=&isShowPopularPosts=true&from=search\n",
    "- 이론2 : https://bab2min.tistory.com/554"
   ]
  },
  {
   "cell_type": "markdown",
   "metadata": {},
   "source": [
    "How to use graphframes in Jupyter notebook by referencing graphrames.jar\n",
    "- https://github.com/graphframes/graphframes/issues/104#"
   ]
  },
  {
   "cell_type": "code",
   "execution_count": null,
   "metadata": {
    "scrolled": true
   },
   "outputs": [],
   "source": [
    "import pyspark.sql.functions as func # pyspark의 유용한 기능을 사용하는 패키지 : countDistinct 사용가능\n",
    "# 원하는 부분만 출력할때는 df.filter()를 사용. \n",
    "\n",
    "# 아이온데이터에 actor는 다르지만 actor_account가 같은 경우는 있는 것 같음. \n",
    "# 하지만 제출형태가 actor_account를 기준으로 해가지고 groupby를 아래의 변수로 진행했음. \n",
    "df_total = df_total.withColumnRenamed(\"actor_account\", \"account\")"
   ]
  },
  {
   "cell_type": "code",
   "execution_count": null,
   "metadata": {},
   "outputs": [],
   "source": [
    "def social_network_features(train, test, df, log_id, name):\n",
    "    # In-degree\n",
    "    df_agg1 = df.filter(df['log_id'] == log_id).groupBy(['account']).agg({'account':'count'}).withColumnRenamed(\"count(account)\", \"{}_in_deg\".format(name))\n",
    "    # Out-degree\n",
    "    df_agg2 = df.filter(df['log_id'] == log_id).groupBy(['target_account']).agg({'target_account':'count'}).withColumnRenamed(\"count(target_account)\", \"{}_out_deg\".format(name))\n",
    "    df_agg2 = df_agg2.withColumnRenamed(\"target_account\", \"account\")\n",
    "    # Python code로 짜야하는데 어려움 ㅜㅜ... \n",
    "    # package는 apache기준. pyspark의 package는 pagerank랑 Component_ID만 있음. \n",
    "    # cc, between, closeness, Eigenvector, Eccentricity, Authority, Hub, Pagerank \n",
    "    \n",
    "    train = train.join(df_agg1, ['account'], how='left')\n",
    "    test = test.join(df_agg1, ['account'], how='left')\n",
    "\n",
    "    train = train.join(df_agg2, ['account'], how='left')\n",
    "    test = test.join(df_agg2, ['account'], how='left')\n",
    "    print(\"end..\")\n",
    "    return train, test"
   ]
  },
  {
   "cell_type": "code",
   "execution_count": null,
   "metadata": {},
   "outputs": [],
   "source": [
    "# party \n",
    "train_label, test_label = social_network_features(train_label, test_label, df_total, log_id = 126, name = 'p')\n",
    "\n",
    "# Friend \n",
    "train_label, test_label = social_network_features(train_label, test_label, df_total, log_id = 134, name = 'f')\n",
    "\n",
    "# Dual\n",
    "train_label, test_label = social_network_features(train_label, test_label, df_total, log_id = 158, name = 'd')\n",
    "\n",
    "# Mail \n",
    "train_label, test_label = social_network_features(train_label, test_label, df_total, log_id = 229, name = 'm')\n",
    "\n",
    "# Trade1\n",
    "train_label, test_label = social_network_features(train_label, test_label, df_total, log_id = 210, name = 't1')\n",
    "\n",
    "# Trade2\n",
    "train_label, test_label = social_network_features(train_label, test_label, df_total, log_id = 219, name = 't2')\n",
    "\n",
    "# Private Shop\n",
    "train_label, test_label = social_network_features(train_label, test_label, df_total, log_id = 247, name = 'p_s')"
   ]
  },
  {
   "cell_type": "code",
   "execution_count": null,
   "metadata": {},
   "outputs": [],
   "source": [
    "# C:\\Users\\User\\Documents\\R&D Challenge2019\n",
    "outputpath = 'C:/Users/User/Documents/R_D Challenge2019/Challenge19_GameBot_Preliminary/features/'\n",
    "train_label.to_csv(outputpath + \"train_social.csv\", index=False)\n",
    "test_label.to_csv(outputpath + \"test_social.csv\", index=False)"
   ]
  }
 ],
 "metadata": {
  "kernelspec": {
   "display_name": "Python 3",
   "language": "python",
   "name": "python3"
  },
  "language_info": {
   "codemirror_mode": {
    "name": "ipython",
    "version": 3
   },
   "file_extension": ".py",
   "mimetype": "text/x-python",
   "name": "python",
   "nbconvert_exporter": "python",
   "pygments_lexer": "ipython3",
   "version": "3.6.8"
  }
 },
 "nbformat": 4,
 "nbformat_minor": 2
}
